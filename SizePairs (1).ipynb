{
  "cells": [
    {
      "cell_type": "code",
      "execution_count": null,
      "metadata": {
        "id": "25pVJ7c_StBo"
      },
      "outputs": [],
      "source": [
        "import pandas as pd"
      ]
    },
    {
      "cell_type": "code",
      "execution_count": null,
      "metadata": {
        "id": "KVOruzj4YoBP"
      },
      "outputs": [],
      "source": [
        "\n",
        "net = pd.read_csv('https://raw.githubusercontent.com/Ideas-Laboratory/SizePairs/main/Datasets/maternalDeaths.data')"
      ]
    },
    {
      "cell_type": "code",
      "execution_count": null,
      "metadata": {
        "colab": {
          "base_uri": "https://localhost:8080/"
        },
        "id": "RCNGoWN09s8W",
        "outputId": "c080ffaa-8ddc-4894-ed0c-bb1143a8809e"
      },
      "outputs": [
        {
          "output_type": "execute_result",
          "data": {
            "text/plain": [
              "28"
            ]
          },
          "metadata": {},
          "execution_count": 3
        }
      ],
      "source": [
        "x = list(net.columns)\n",
        "len(x)"
      ]
    },
    {
      "cell_type": "code",
      "execution_count": null,
      "metadata": {
        "id": "K2TjjpevaN4j"
      },
      "outputs": [],
      "source": [
        "net.head()\n",
        "len(net)\n",
        "headers = []\n",
        "for i in range(1,27):\n",
        "  headers.append(i)\n"
      ]
    },
    {
      "cell_type": "code",
      "execution_count": null,
      "metadata": {
        "id": "1kpq0CJv-EZx"
      },
      "outputs": [],
      "source": [
        "len(headers)\n",
        "headers.insert(0,'Country')\n",
        "headers.insert(1,'Region')"
      ]
    },
    {
      "cell_type": "code",
      "execution_count": null,
      "metadata": {
        "id": "Ngd2gXvZ-Akr"
      },
      "outputs": [],
      "source": [
        "net.columns = headers\n"
      ]
    },
    {
      "cell_type": "code",
      "execution_count": null,
      "metadata": {
        "id": "6Quuzo8K2cjE"
      },
      "outputs": [],
      "source": [
        "z = headers[2:]"
      ]
    },
    {
      "cell_type": "code",
      "execution_count": null,
      "metadata": {
        "colab": {
          "base_uri": "https://localhost:8080/"
        },
        "id": "UzA9pVd82qaq",
        "outputId": "1421ea57-4596-4a25-9e7a-bf708b19984d"
      },
      "outputs": [
        {
          "output_type": "stream",
          "name": "stderr",
          "text": [
            "<ipython-input-8-fba0175faeb4>:3: SettingWithCopyWarning: \n",
            "A value is trying to be set on a copy of a slice from a DataFrame\n",
            "\n",
            "See the caveats in the documentation: https://pandas.pydata.org/pandas-docs/stable/user_guide/indexing.html#returning-a-view-versus-a-copy\n",
            "  net[z[i]][j] = int(net[z[i]][j])\n"
          ]
        }
      ],
      "source": [
        "for i in range(len(z)):\n",
        "  for j in range(len(net)):\n",
        "    net[z[i]][j] = int(net[z[i]][j])"
      ]
    },
    {
      "cell_type": "code",
      "execution_count": null,
      "metadata": {
        "id": "DuO1J5dMBCFN"
      },
      "outputs": [],
      "source": [
        "for i in z:\n",
        "  net[i]=net[i]/net[i].abs().max()\n"
      ]
    },
    {
      "cell_type": "code",
      "execution_count": null,
      "metadata": {
        "colab": {
          "base_uri": "https://localhost:8080/",
          "height": 574
        },
        "id": "AYLxO7GPGZeF",
        "outputId": "edddd334-556a-4618-df07-154565e82182"
      },
      "outputs": [
        {
          "output_type": "execute_result",
          "data": {
            "text/plain": [
              "                                    Country                  Region         1  \\\n",
              "0           root/EastAsia&Pacific/Australia   root/EastAsia&Pacific  0.000094   \n",
              "1    root/EastAsia&Pacific/BruneiDarussalam   root/EastAsia&Pacific  0.000013   \n",
              "2            root/EastAsia&Pacific/Cambodia   root/EastAsia&Pacific  0.017481   \n",
              "3               root/EastAsia&Pacific/China   root/EastAsia&Pacific  0.112058   \n",
              "4                root/EastAsia&Pacific/Fiji   root/EastAsia&Pacific  0.000063   \n",
              "..                                      ...                     ...       ...   \n",
              "183         root/Sub-SaharanAfrica/Tanzania  root/Sub-SaharanAfrica  0.049306   \n",
              "184             root/Sub-SaharanAfrica/Togo  root/Sub-SaharanAfrica  0.004079   \n",
              "185           root/Sub-SaharanAfrica/Uganda  root/Sub-SaharanAfrica  0.026446   \n",
              "186           root/Sub-SaharanAfrica/Zambia  root/Sub-SaharanAfrica  0.009861   \n",
              "187         root/Sub-SaharanAfrica/Zimbabwe  root/Sub-SaharanAfrica  0.007620   \n",
              "\n",
              "            2         3         4         5         6         7         8  \\\n",
              "0    0.000094  0.000093  0.000091  0.000091  0.000090  0.000090  0.000089   \n",
              "1    0.000013  0.000013  0.000013  0.000013  0.000013  0.000013  0.000013   \n",
              "2    0.016100  0.014994  0.013435  0.012593  0.011600  0.010243  0.009340   \n",
              "3    0.102860  0.092613  0.078008  0.069477  0.060146  0.051216  0.046700   \n",
              "4    0.000058  0.000057  0.000052  0.000048  0.000047  0.000043  0.000042   \n",
              "..        ...       ...       ...       ...       ...       ...       ...   \n",
              "183  0.049194  0.052921  0.052005  0.052108  0.051554  0.051216  0.050945   \n",
              "184  0.004159  0.004146  0.004117  0.004212  0.004210  0.004183  0.004161   \n",
              "185  0.027728  0.028225  0.028603  0.029528  0.029644  0.029876  0.030142   \n",
              "186  0.009839  0.010143  0.010401  0.010422  0.010740  0.010670  0.011038   \n",
              "187  0.007603  0.007056  0.006934  0.007382  0.007733  0.008109  0.008491   \n",
              "\n",
              "     ...        17        18        19        20        21        22  \\\n",
              "0    ...  0.000087  0.000092  0.000090  0.000094  0.000094  0.000096   \n",
              "1    ...  0.000009  0.000009  0.000010  0.000009  0.000009  0.000010   \n",
              "2    ...  0.004591  0.004230  0.004086  0.003703  0.003487  0.003324   \n",
              "3    ...  0.033058  0.031268  0.030882  0.029059  0.027328  0.026492   \n",
              "4    ...  0.000032  0.000032  0.000033  0.000033  0.000028  0.000029   \n",
              "..   ...       ...       ...       ...       ...       ...       ...   \n",
              "183  ...  0.050505  0.050581  0.047510  0.046870  0.045703  0.044313   \n",
              "184  ...  0.004408  0.004368  0.004466  0.004406  0.004476  0.004672   \n",
              "185  ...  0.029844  0.029889  0.030407  0.029528  0.029683  0.029863   \n",
              "186  ...  0.008264  0.007817  0.007602  0.007499  0.007067  0.007225   \n",
              "187  ...  0.012856  0.012415  0.012353  0.011249  0.010837  0.010115   \n",
              "\n",
              "           23        24        25        26  \n",
              "0    0.000097  0.000098  0.000093  0.000095  \n",
              "1    0.000010  0.000010  0.000010  0.000010  \n",
              "2    0.003197  0.003123  0.003042  0.002946  \n",
              "3    0.025188  0.023914  0.022570  0.021967  \n",
              "4    0.000029  0.000029  0.000029  0.000025  \n",
              "..        ...       ...       ...       ...  \n",
              "183  0.044079  0.042460  0.041706  0.040938  \n",
              "184  0.004698  0.004734  0.004710  0.004693  \n",
              "185  0.030032  0.028794  0.028458  0.028457  \n",
              "186  0.007266  0.007321  0.007360  0.006989  \n",
              "187  0.009688  0.009761  0.010795  0.011982  \n",
              "\n",
              "[188 rows x 28 columns]"
            ],
            "text/html": [
              "\n",
              "  <div id=\"df-fa8acd20-9542-4313-ad91-9d80b4807258\">\n",
              "    <div class=\"colab-df-container\">\n",
              "      <div>\n",
              "<style scoped>\n",
              "    .dataframe tbody tr th:only-of-type {\n",
              "        vertical-align: middle;\n",
              "    }\n",
              "\n",
              "    .dataframe tbody tr th {\n",
              "        vertical-align: top;\n",
              "    }\n",
              "\n",
              "    .dataframe thead th {\n",
              "        text-align: right;\n",
              "    }\n",
              "</style>\n",
              "<table border=\"1\" class=\"dataframe\">\n",
              "  <thead>\n",
              "    <tr style=\"text-align: right;\">\n",
              "      <th></th>\n",
              "      <th>Country</th>\n",
              "      <th>Region</th>\n",
              "      <th>1</th>\n",
              "      <th>2</th>\n",
              "      <th>3</th>\n",
              "      <th>4</th>\n",
              "      <th>5</th>\n",
              "      <th>6</th>\n",
              "      <th>7</th>\n",
              "      <th>8</th>\n",
              "      <th>...</th>\n",
              "      <th>17</th>\n",
              "      <th>18</th>\n",
              "      <th>19</th>\n",
              "      <th>20</th>\n",
              "      <th>21</th>\n",
              "      <th>22</th>\n",
              "      <th>23</th>\n",
              "      <th>24</th>\n",
              "      <th>25</th>\n",
              "      <th>26</th>\n",
              "    </tr>\n",
              "  </thead>\n",
              "  <tbody>\n",
              "    <tr>\n",
              "      <th>0</th>\n",
              "      <td>root/EastAsia&amp;Pacific/Australia</td>\n",
              "      <td>root/EastAsia&amp;Pacific</td>\n",
              "      <td>0.000094</td>\n",
              "      <td>0.000094</td>\n",
              "      <td>0.000093</td>\n",
              "      <td>0.000091</td>\n",
              "      <td>0.000091</td>\n",
              "      <td>0.000090</td>\n",
              "      <td>0.000090</td>\n",
              "      <td>0.000089</td>\n",
              "      <td>...</td>\n",
              "      <td>0.000087</td>\n",
              "      <td>0.000092</td>\n",
              "      <td>0.000090</td>\n",
              "      <td>0.000094</td>\n",
              "      <td>0.000094</td>\n",
              "      <td>0.000096</td>\n",
              "      <td>0.000097</td>\n",
              "      <td>0.000098</td>\n",
              "      <td>0.000093</td>\n",
              "      <td>0.000095</td>\n",
              "    </tr>\n",
              "    <tr>\n",
              "      <th>1</th>\n",
              "      <td>root/EastAsia&amp;Pacific/BruneiDarussalam</td>\n",
              "      <td>root/EastAsia&amp;Pacific</td>\n",
              "      <td>0.000013</td>\n",
              "      <td>0.000013</td>\n",
              "      <td>0.000013</td>\n",
              "      <td>0.000013</td>\n",
              "      <td>0.000013</td>\n",
              "      <td>0.000013</td>\n",
              "      <td>0.000013</td>\n",
              "      <td>0.000013</td>\n",
              "      <td>...</td>\n",
              "      <td>0.000009</td>\n",
              "      <td>0.000009</td>\n",
              "      <td>0.000010</td>\n",
              "      <td>0.000009</td>\n",
              "      <td>0.000009</td>\n",
              "      <td>0.000010</td>\n",
              "      <td>0.000010</td>\n",
              "      <td>0.000010</td>\n",
              "      <td>0.000010</td>\n",
              "      <td>0.000010</td>\n",
              "    </tr>\n",
              "    <tr>\n",
              "      <th>2</th>\n",
              "      <td>root/EastAsia&amp;Pacific/Cambodia</td>\n",
              "      <td>root/EastAsia&amp;Pacific</td>\n",
              "      <td>0.017481</td>\n",
              "      <td>0.016100</td>\n",
              "      <td>0.014994</td>\n",
              "      <td>0.013435</td>\n",
              "      <td>0.012593</td>\n",
              "      <td>0.011600</td>\n",
              "      <td>0.010243</td>\n",
              "      <td>0.009340</td>\n",
              "      <td>...</td>\n",
              "      <td>0.004591</td>\n",
              "      <td>0.004230</td>\n",
              "      <td>0.004086</td>\n",
              "      <td>0.003703</td>\n",
              "      <td>0.003487</td>\n",
              "      <td>0.003324</td>\n",
              "      <td>0.003197</td>\n",
              "      <td>0.003123</td>\n",
              "      <td>0.003042</td>\n",
              "      <td>0.002946</td>\n",
              "    </tr>\n",
              "    <tr>\n",
              "      <th>3</th>\n",
              "      <td>root/EastAsia&amp;Pacific/China</td>\n",
              "      <td>root/EastAsia&amp;Pacific</td>\n",
              "      <td>0.112058</td>\n",
              "      <td>0.102860</td>\n",
              "      <td>0.092613</td>\n",
              "      <td>0.078008</td>\n",
              "      <td>0.069477</td>\n",
              "      <td>0.060146</td>\n",
              "      <td>0.051216</td>\n",
              "      <td>0.046700</td>\n",
              "      <td>...</td>\n",
              "      <td>0.033058</td>\n",
              "      <td>0.031268</td>\n",
              "      <td>0.030882</td>\n",
              "      <td>0.029059</td>\n",
              "      <td>0.027328</td>\n",
              "      <td>0.026492</td>\n",
              "      <td>0.025188</td>\n",
              "      <td>0.023914</td>\n",
              "      <td>0.022570</td>\n",
              "      <td>0.021967</td>\n",
              "    </tr>\n",
              "    <tr>\n",
              "      <th>4</th>\n",
              "      <td>root/EastAsia&amp;Pacific/Fiji</td>\n",
              "      <td>root/EastAsia&amp;Pacific</td>\n",
              "      <td>0.000063</td>\n",
              "      <td>0.000058</td>\n",
              "      <td>0.000057</td>\n",
              "      <td>0.000052</td>\n",
              "      <td>0.000048</td>\n",
              "      <td>0.000047</td>\n",
              "      <td>0.000043</td>\n",
              "      <td>0.000042</td>\n",
              "      <td>...</td>\n",
              "      <td>0.000032</td>\n",
              "      <td>0.000032</td>\n",
              "      <td>0.000033</td>\n",
              "      <td>0.000033</td>\n",
              "      <td>0.000028</td>\n",
              "      <td>0.000029</td>\n",
              "      <td>0.000029</td>\n",
              "      <td>0.000029</td>\n",
              "      <td>0.000029</td>\n",
              "      <td>0.000025</td>\n",
              "    </tr>\n",
              "    <tr>\n",
              "      <th>...</th>\n",
              "      <td>...</td>\n",
              "      <td>...</td>\n",
              "      <td>...</td>\n",
              "      <td>...</td>\n",
              "      <td>...</td>\n",
              "      <td>...</td>\n",
              "      <td>...</td>\n",
              "      <td>...</td>\n",
              "      <td>...</td>\n",
              "      <td>...</td>\n",
              "      <td>...</td>\n",
              "      <td>...</td>\n",
              "      <td>...</td>\n",
              "      <td>...</td>\n",
              "      <td>...</td>\n",
              "      <td>...</td>\n",
              "      <td>...</td>\n",
              "      <td>...</td>\n",
              "      <td>...</td>\n",
              "      <td>...</td>\n",
              "      <td>...</td>\n",
              "    </tr>\n",
              "    <tr>\n",
              "      <th>183</th>\n",
              "      <td>root/Sub-SaharanAfrica/Tanzania</td>\n",
              "      <td>root/Sub-SaharanAfrica</td>\n",
              "      <td>0.049306</td>\n",
              "      <td>0.049194</td>\n",
              "      <td>0.052921</td>\n",
              "      <td>0.052005</td>\n",
              "      <td>0.052108</td>\n",
              "      <td>0.051554</td>\n",
              "      <td>0.051216</td>\n",
              "      <td>0.050945</td>\n",
              "      <td>...</td>\n",
              "      <td>0.050505</td>\n",
              "      <td>0.050581</td>\n",
              "      <td>0.047510</td>\n",
              "      <td>0.046870</td>\n",
              "      <td>0.045703</td>\n",
              "      <td>0.044313</td>\n",
              "      <td>0.044079</td>\n",
              "      <td>0.042460</td>\n",
              "      <td>0.041706</td>\n",
              "      <td>0.040938</td>\n",
              "    </tr>\n",
              "    <tr>\n",
              "      <th>184</th>\n",
              "      <td>root/Sub-SaharanAfrica/Togo</td>\n",
              "      <td>root/Sub-SaharanAfrica</td>\n",
              "      <td>0.004079</td>\n",
              "      <td>0.004159</td>\n",
              "      <td>0.004146</td>\n",
              "      <td>0.004117</td>\n",
              "      <td>0.004212</td>\n",
              "      <td>0.004210</td>\n",
              "      <td>0.004183</td>\n",
              "      <td>0.004161</td>\n",
              "      <td>...</td>\n",
              "      <td>0.004408</td>\n",
              "      <td>0.004368</td>\n",
              "      <td>0.004466</td>\n",
              "      <td>0.004406</td>\n",
              "      <td>0.004476</td>\n",
              "      <td>0.004672</td>\n",
              "      <td>0.004698</td>\n",
              "      <td>0.004734</td>\n",
              "      <td>0.004710</td>\n",
              "      <td>0.004693</td>\n",
              "    </tr>\n",
              "    <tr>\n",
              "      <th>185</th>\n",
              "      <td>root/Sub-SaharanAfrica/Uganda</td>\n",
              "      <td>root/Sub-SaharanAfrica</td>\n",
              "      <td>0.026446</td>\n",
              "      <td>0.027728</td>\n",
              "      <td>0.028225</td>\n",
              "      <td>0.028603</td>\n",
              "      <td>0.029528</td>\n",
              "      <td>0.029644</td>\n",
              "      <td>0.029876</td>\n",
              "      <td>0.030142</td>\n",
              "      <td>...</td>\n",
              "      <td>0.029844</td>\n",
              "      <td>0.029889</td>\n",
              "      <td>0.030407</td>\n",
              "      <td>0.029528</td>\n",
              "      <td>0.029683</td>\n",
              "      <td>0.029863</td>\n",
              "      <td>0.030032</td>\n",
              "      <td>0.028794</td>\n",
              "      <td>0.028458</td>\n",
              "      <td>0.028457</td>\n",
              "    </tr>\n",
              "    <tr>\n",
              "      <th>186</th>\n",
              "      <td>root/Sub-SaharanAfrica/Zambia</td>\n",
              "      <td>root/Sub-SaharanAfrica</td>\n",
              "      <td>0.009861</td>\n",
              "      <td>0.009839</td>\n",
              "      <td>0.010143</td>\n",
              "      <td>0.010401</td>\n",
              "      <td>0.010422</td>\n",
              "      <td>0.010740</td>\n",
              "      <td>0.010670</td>\n",
              "      <td>0.011038</td>\n",
              "      <td>...</td>\n",
              "      <td>0.008264</td>\n",
              "      <td>0.007817</td>\n",
              "      <td>0.007602</td>\n",
              "      <td>0.007499</td>\n",
              "      <td>0.007067</td>\n",
              "      <td>0.007225</td>\n",
              "      <td>0.007266</td>\n",
              "      <td>0.007321</td>\n",
              "      <td>0.007360</td>\n",
              "      <td>0.006989</td>\n",
              "    </tr>\n",
              "    <tr>\n",
              "      <th>187</th>\n",
              "      <td>root/Sub-SaharanAfrica/Zimbabwe</td>\n",
              "      <td>root/Sub-SaharanAfrica</td>\n",
              "      <td>0.007620</td>\n",
              "      <td>0.007603</td>\n",
              "      <td>0.007056</td>\n",
              "      <td>0.006934</td>\n",
              "      <td>0.007382</td>\n",
              "      <td>0.007733</td>\n",
              "      <td>0.008109</td>\n",
              "      <td>0.008491</td>\n",
              "      <td>...</td>\n",
              "      <td>0.012856</td>\n",
              "      <td>0.012415</td>\n",
              "      <td>0.012353</td>\n",
              "      <td>0.011249</td>\n",
              "      <td>0.010837</td>\n",
              "      <td>0.010115</td>\n",
              "      <td>0.009688</td>\n",
              "      <td>0.009761</td>\n",
              "      <td>0.010795</td>\n",
              "      <td>0.011982</td>\n",
              "    </tr>\n",
              "  </tbody>\n",
              "</table>\n",
              "<p>188 rows × 28 columns</p>\n",
              "</div>\n",
              "      <button class=\"colab-df-convert\" onclick=\"convertToInteractive('df-fa8acd20-9542-4313-ad91-9d80b4807258')\"\n",
              "              title=\"Convert this dataframe to an interactive table.\"\n",
              "              style=\"display:none;\">\n",
              "        \n",
              "  <svg xmlns=\"http://www.w3.org/2000/svg\" height=\"24px\"viewBox=\"0 0 24 24\"\n",
              "       width=\"24px\">\n",
              "    <path d=\"M0 0h24v24H0V0z\" fill=\"none\"/>\n",
              "    <path d=\"M18.56 5.44l.94 2.06.94-2.06 2.06-.94-2.06-.94-.94-2.06-.94 2.06-2.06.94zm-11 1L8.5 8.5l.94-2.06 2.06-.94-2.06-.94L8.5 2.5l-.94 2.06-2.06.94zm10 10l.94 2.06.94-2.06 2.06-.94-2.06-.94-.94-2.06-.94 2.06-2.06.94z\"/><path d=\"M17.41 7.96l-1.37-1.37c-.4-.4-.92-.59-1.43-.59-.52 0-1.04.2-1.43.59L10.3 9.45l-7.72 7.72c-.78.78-.78 2.05 0 2.83L4 21.41c.39.39.9.59 1.41.59.51 0 1.02-.2 1.41-.59l7.78-7.78 2.81-2.81c.8-.78.8-2.07 0-2.86zM5.41 20L4 18.59l7.72-7.72 1.47 1.35L5.41 20z\"/>\n",
              "  </svg>\n",
              "      </button>\n",
              "      \n",
              "  <style>\n",
              "    .colab-df-container {\n",
              "      display:flex;\n",
              "      flex-wrap:wrap;\n",
              "      gap: 12px;\n",
              "    }\n",
              "\n",
              "    .colab-df-convert {\n",
              "      background-color: #E8F0FE;\n",
              "      border: none;\n",
              "      border-radius: 50%;\n",
              "      cursor: pointer;\n",
              "      display: none;\n",
              "      fill: #1967D2;\n",
              "      height: 32px;\n",
              "      padding: 0 0 0 0;\n",
              "      width: 32px;\n",
              "    }\n",
              "\n",
              "    .colab-df-convert:hover {\n",
              "      background-color: #E2EBFA;\n",
              "      box-shadow: 0px 1px 2px rgba(60, 64, 67, 0.3), 0px 1px 3px 1px rgba(60, 64, 67, 0.15);\n",
              "      fill: #174EA6;\n",
              "    }\n",
              "\n",
              "    [theme=dark] .colab-df-convert {\n",
              "      background-color: #3B4455;\n",
              "      fill: #D2E3FC;\n",
              "    }\n",
              "\n",
              "    [theme=dark] .colab-df-convert:hover {\n",
              "      background-color: #434B5C;\n",
              "      box-shadow: 0px 1px 3px 1px rgba(0, 0, 0, 0.15);\n",
              "      filter: drop-shadow(0px 1px 2px rgba(0, 0, 0, 0.3));\n",
              "      fill: #FFFFFF;\n",
              "    }\n",
              "  </style>\n",
              "\n",
              "      <script>\n",
              "        const buttonEl =\n",
              "          document.querySelector('#df-fa8acd20-9542-4313-ad91-9d80b4807258 button.colab-df-convert');\n",
              "        buttonEl.style.display =\n",
              "          google.colab.kernel.accessAllowed ? 'block' : 'none';\n",
              "\n",
              "        async function convertToInteractive(key) {\n",
              "          const element = document.querySelector('#df-fa8acd20-9542-4313-ad91-9d80b4807258');\n",
              "          const dataTable =\n",
              "            await google.colab.kernel.invokeFunction('convertToInteractive',\n",
              "                                                     [key], {});\n",
              "          if (!dataTable) return;\n",
              "\n",
              "          const docLinkHtml = 'Like what you see? Visit the ' +\n",
              "            '<a target=\"_blank\" href=https://colab.research.google.com/notebooks/data_table.ipynb>data table notebook</a>'\n",
              "            + ' to learn more about interactive tables.';\n",
              "          element.innerHTML = '';\n",
              "          dataTable['output_type'] = 'display_data';\n",
              "          await google.colab.output.renderOutput(dataTable, element);\n",
              "          const docLink = document.createElement('div');\n",
              "          docLink.innerHTML = docLinkHtml;\n",
              "          element.appendChild(docLink);\n",
              "        }\n",
              "      </script>\n",
              "    </div>\n",
              "  </div>\n",
              "  "
            ]
          },
          "metadata": {},
          "execution_count": 10
        }
      ],
      "source": [
        "net"
      ]
    },
    {
      "cell_type": "code",
      "execution_count": null,
      "metadata": {
        "id": "tjUFUoMjbosH"
      },
      "outputs": [],
      "source": [
        "a = list(net['Country'])\n",
        "a = [a[i][::-1][:a[i][::-1].index('/')] for i in range(len(a))]\n",
        "a = [i[::-1] for i in a]\n",
        "\n"
      ]
    },
    {
      "cell_type": "code",
      "execution_count": null,
      "metadata": {
        "colab": {
          "base_uri": "https://localhost:8080/"
        },
        "id": "ny1oPBCHB5fF",
        "outputId": "e60c3718-a07b-4b44-da85-8b3e26e540ff"
      },
      "outputs": [
        {
          "output_type": "execute_result",
          "data": {
            "text/plain": [
              "[1,\n",
              " 2,\n",
              " 3,\n",
              " 4,\n",
              " 5,\n",
              " 6,\n",
              " 7,\n",
              " 8,\n",
              " 9,\n",
              " 10,\n",
              " 11,\n",
              " 12,\n",
              " 13,\n",
              " 14,\n",
              " 15,\n",
              " 16,\n",
              " 17,\n",
              " 18,\n",
              " 19,\n",
              " 20,\n",
              " 21,\n",
              " 22,\n",
              " 23,\n",
              " 24,\n",
              " 25,\n",
              " 26]"
            ]
          },
          "metadata": {},
          "execution_count": 12
        }
      ],
      "source": [
        "z"
      ]
    },
    {
      "cell_type": "code",
      "execution_count": null,
      "metadata": {
        "id": "gRFKHHJmBM2T"
      },
      "outputs": [],
      "source": [
        "weights = []\n",
        "for i in range(1,len(z)+1):\n",
        "  b = []\n",
        "  for j in range(len(net)):\n",
        "    b.append(net[i][j])\n",
        "  weights.append(b)\n"
      ]
    },
    {
      "cell_type": "code",
      "execution_count": null,
      "metadata": {
        "colab": {
          "base_uri": "https://localhost:8080/"
        },
        "id": "JXTPdPbDB_Q0",
        "outputId": "75c2f030-d86c-482d-a4de-7f6b94c38790"
      },
      "outputs": [
        {
          "output_type": "execute_result",
          "data": {
            "text/plain": [
              "26"
            ]
          },
          "metadata": {},
          "execution_count": 14
        }
      ],
      "source": [
        "len(weights)"
      ]
    },
    {
      "cell_type": "code",
      "execution_count": null,
      "metadata": {
        "id": "3JAK1659s2cC"
      },
      "outputs": [],
      "source": [
        "\n",
        "import numpy as np"
      ]
    },
    {
      "cell_type": "code",
      "execution_count": null,
      "metadata": {
        "id": "kNooqRyEk2MC",
        "colab": {
          "base_uri": "https://localhost:8080/"
        },
        "outputId": "c50c9139-a17b-4e84-ff39-bc2a16f0c0e5"
      },
      "outputs": [
        {
          "output_type": "execute_result",
          "data": {
            "text/plain": [
              "26"
            ]
          },
          "metadata": {},
          "execution_count": 16
        }
      ],
      "source": [
        "\n",
        "W = np.array(weights)\n",
        "v = W.transpose()\n",
        "\n",
        "len(W)"
      ]
    },
    {
      "cell_type": "code",
      "source": [
        "for i in v:\n",
        "  for j in i:\n",
        "    j = (j-np.mean(i))/np.std(i)\n",
        "v"
      ],
      "metadata": {
        "colab": {
          "base_uri": "https://localhost:8080/"
        },
        "id": "_XfbKIwy-BCH",
        "outputId": "ae31ab13-4253-4167-9dde-18dc514b8e96"
      },
      "execution_count": null,
      "outputs": [
        {
          "output_type": "stream",
          "name": "stderr",
          "text": [
            "<ipython-input-17-3ce59aca5503>:3: RuntimeWarning: invalid value encountered in double_scalars\n",
            "  j = (j-np.mean(i))/np.std(i)\n"
          ]
        },
        {
          "output_type": "execute_result",
          "data": {
            "text/plain": [
              "array([[9.41290375e-05, 9.39160301e-05, 9.26126015e-05, ...,\n",
              "        9.76081132e-05, 9.32254535e-05, 9.48567663e-05],\n",
              "       [1.34470054e-05, 1.34165757e-05, 1.32303716e-05, ...,\n",
              "        9.76081132e-06, 9.81320563e-06, 9.98492277e-06],\n",
              "       [1.74811070e-02, 1.60998909e-02, 1.49944212e-02, ...,\n",
              "        3.12345962e-03, 3.04209375e-03, 2.94555222e-03],\n",
              "       ...,\n",
              "       [2.64457772e-02, 2.77275898e-02, 2.82247928e-02, ...,\n",
              "        2.87943934e-02, 2.84582963e-02, 2.84570299e-02],\n",
              "       [9.86113726e-03, 9.83882220e-03, 1.01432849e-02, ...,\n",
              "        7.32060849e-03, 7.35990422e-03, 6.98944594e-03],\n",
              "       [7.61996970e-03, 7.60272625e-03, 7.05619821e-03, ...,\n",
              "        9.76081132e-03, 1.07945262e-02, 1.19819073e-02]])"
            ]
          },
          "metadata": {},
          "execution_count": 17
        }
      ]
    },
    {
      "cell_type": "code",
      "source": [
        "def supernodes(v):\n",
        "  r = []\n",
        "  for i in v:\n",
        "    r.append(np.median(i))\n",
        "  h = []\n",
        "  for i in range(len(r)):\n",
        "    if r[i]>sum(r)/3:\n",
        "      h.append(a[i])\n",
        "  return h \n",
        "supernodes(v)"
      ],
      "metadata": {
        "colab": {
          "base_uri": "https://localhost:8080/"
        },
        "id": "gIyF9Edy-Yb1",
        "outputId": "5514d2c4-3d39-4d64-8ad6-46fd81251f22"
      },
      "execution_count": null,
      "outputs": [
        {
          "output_type": "execute_result",
          "data": {
            "text/plain": [
              "[]"
            ]
          },
          "metadata": {},
          "execution_count": 18
        }
      ]
    },
    {
      "cell_type": "code",
      "execution_count": null,
      "metadata": {
        "id": "6Ee4SVses7ni"
      },
      "outputs": [],
      "source": [
        "###### Compensation Degree\n",
        "def compdegree(l1,l2):\n",
        "  a = len(l1)-1\n",
        "  s = 0\n",
        "  for i in range(a-1):\n",
        "    f = abs((l1[i+1]-l1[i]) + (l2[i+1] - l2[i]))\n",
        "    g = max(l1[i],l2[i+1]) + max(l2[i+1],l2[i])\n",
        "    s += (f/g)\n",
        "  return s/a"
      ]
    },
    {
      "cell_type": "code",
      "execution_count": null,
      "metadata": {
        "id": "disJPWNfvXlv"
      },
      "outputs": [],
      "source": [
        "def sizediff(m1,m2):\n",
        "  a = len(m1)\n",
        "  s = 0\n",
        "  for i in range(a):\n",
        "    s+= (abs(m1[i]-m2[i]))/(max(m1[i],m2[i]))\n",
        "  return s/a"
      ]
    },
    {
      "cell_type": "code",
      "source": [
        "def costfunc(x,y):\n",
        "  return 0.5*(compdegree(x,y)+sizediff(x,y))"
      ],
      "metadata": {
        "id": "MzedTe10w5sa"
      },
      "execution_count": null,
      "outputs": []
    },
    {
      "cell_type": "code",
      "source": [
        "len(v)"
      ],
      "metadata": {
        "colab": {
          "base_uri": "https://localhost:8080/"
        },
        "id": "PRwROZAtBWwJ",
        "outputId": "d02027d1-4e91-4e09-908b-04ed358e300f"
      },
      "execution_count": null,
      "outputs": [
        {
          "output_type": "execute_result",
          "data": {
            "text/plain": [
              "188"
            ]
          },
          "metadata": {},
          "execution_count": 22
        }
      ]
    },
    {
      "cell_type": "code",
      "source": [
        "def costmatrix(v):\n",
        "  mydict = {}\n",
        "  lo = []\n",
        "  for i in range(len(v)):\n",
        "    for j in range(i+1,len(v)):\n",
        "      mydict[(a[i],a[j])] = costfunc(v[i],v[j])\n",
        "      lo.append(costfunc(v[i],v[j]))\n",
        "  return mydict"
      ],
      "metadata": {
        "id": "K2kAjZxE64XE"
      },
      "execution_count": null,
      "outputs": []
    },
    {
      "cell_type": "code",
      "source": [
        "def flatandsort(mydict):\n",
        "  p = min(list(mydict.values()))\n",
        "  k = []\n",
        "  for i in range(len(mydict)):\n",
        "    if mydict[list(mydict.keys())[i]] ==p:\n",
        "      k.append(list(mydict.keys())[i])\n",
        "  return k"
      ],
      "metadata": {
        "id": "M5aJwzuL7ArW"
      },
      "execution_count": null,
      "outputs": []
    },
    {
      "cell_type": "code",
      "source": [
        "while(len(v)>1):\n",
        "  x = costmatrix(v)\n",
        "  y = flatandsort(x)\n",
        "  u = np.add(v[a.index(y[0][0])],v[a.index(y[0][1])])\n",
        "  v = [v[i] for i in range(len(v)) if i!=a.index(y[0][0]) and i!=a.index(y[0][1])]\n",
        "  v.append(np.array(u))\n",
        "  c = [i for i in a if i!=y[0][0] and i!=y[0][1]]\n",
        "  c.append((y[0][0],y[0][1]))\n",
        "  a = c                       "
      ],
      "metadata": {
        "colab": {
          "base_uri": "https://localhost:8080/"
        },
        "id": "VnvumDB97Ajg",
        "outputId": "a9672747-2ba8-471d-e3df-66e07f7c644b"
      },
      "execution_count": null,
      "outputs": [
        {
          "output_type": "stream",
          "name": "stderr",
          "text": [
            "<ipython-input-19-c7a9434e9187>:8: RuntimeWarning: invalid value encountered in double_scalars\n",
            "  s += (f/g)\n",
            "<ipython-input-19-c7a9434e9187>:8: RuntimeWarning: divide by zero encountered in double_scalars\n",
            "  s += (f/g)\n",
            "<ipython-input-20-041359b5d303>:5: RuntimeWarning: invalid value encountered in double_scalars\n",
            "  s+= (abs(m1[i]-m2[i]))/(max(m1[i],m2[i]))\n"
          ]
        }
      ]
    },
    {
      "cell_type": "code",
      "source": [
        "hierarchy = (('Malta', ('Estonia', 'Grenada')),\n",
        "  (((('Suriname', ('Oman', ('Ireland', 'UnitedArabEmirates'))),\n",
        "     ('Poland', ('Albania', ('Maldives', 'CaboVerde')))),\n",
        "    ('Belarus', ('Lithuania', 'BahamasThe'))),\n",
        "   ((('Rwanda',\n",
        "      ('Cambodia',\n",
        "       ('IranIslamicRep',\n",
        "        (('Tajikistan', 'SaudiArabia'),\n",
        "         ('Kazakhstan',\n",
        "          ('Azerbaijan', (('Armenia', 'Libya'), ('Moldova', 'Lebanon')))))))),\n",
        "     ('SouthAfrica',\n",
        "      ('Turkey',\n",
        "       (('TimorLeste', ('Romania', 'ElSalvador')),\n",
        "        ('DominicanRepublic',\n",
        "         (('Mongolia', 'Bhutan'),\n",
        "          (((('SaoTomeandPrincipe', ('Sweden', 'Switzerland')),\n",
        "             ('TrinidadandTobago',\n",
        "              (('Bahrain', 'Qatar'), ('Tonga', 'Kuwait')))),\n",
        "            ('Netherlands',\n",
        "             ('PuertoRico',\n",
        "              ('Denmark',\n",
        "               ('MacedoniaFYR', ('Cyprus', 'StVincentandtheGrenadines')))))),\n",
        "           (('Hungary',\n",
        "             ('Mauritius', ('Croatia', ('BruneiDarussalam', 'Finland')))),\n",
        "            (('Singapore', ('Norway', 'Belize')),\n",
        "             ('CzechRepublic', ('Austria', ('Barbados', 'StLucia')))))))))))),\n",
        "    (((('CongoDemRep', (('CotedIvoire', 'Niger'), ('Cameroon', 'Chad'))),\n",
        "       (('MiddleEast&NorthAfrica', ('Malawi', 'Mali')),\n",
        "        (('Somalia', 'SouthSudan'),\n",
        "         ('SierraLeone',\n",
        "          ('Zambia',\n",
        "           ('Togo',\n",
        "            ('Argentina',\n",
        "             ('Nicaragua',\n",
        "              ('Jordan', ('Germany', ('Italy', 'CostaRica'))))))))))),\n",
        "      (('Bangladesh',\n",
        "        (('Myanmar', 'Europe&CentralAsia'),\n",
        "         ('Nepal', ('Mexico', ('LaoPDR', 'Peru'))))),\n",
        "       (('China', 'Afghanistan'),\n",
        "        ('Kenya',\n",
        "         (('Senegal',\n",
        "           (('UnitedStates', 'GambiaThe'), ('VenezuelaRB', 'NorthAmerica'))),\n",
        "          ('Zimbabwe',\n",
        "           (('KoreaDemPeople’sRep',\n",
        "             ('Gabon',\n",
        "              ('UnitedKingdom',\n",
        "               ('Guyana', ('Australia', ('Belgium', 'Israel')))))),\n",
        "            (('Thailand',\n",
        "              ('Botswana',\n",
        "               (('SolomonIslands',\n",
        "                 (('Fiji', 'Vanuatu'),\n",
        "                  (('Kiribati', 'MicronesiaFedSts'),\n",
        "                   ('Samoa', 'SlovakRepublic')))),\n",
        "                (('Portugal', 'Uruguay'),\n",
        "                 ('Bulgaria', ('BosniaandHerzegovina', 'Latvia')))))),\n",
        "             ('Uzbekistan',\n",
        "              ('KyrgyzRepublic',\n",
        "               ('Panama',\n",
        "                ('Canada',\n",
        "                 ('Serbia',\n",
        "                  ('NewZealand',\n",
        "                   ('Greece',\n",
        "                    ('Slovenia', ('Luxembourg', 'Montenegro'))))))))))))))))),\n",
        "     (('Sub-SaharanAfrica',\n",
        "       ('India',\n",
        "        (('Ethiopia', ('Indonesia', 'LatinAmerica&Caribbean')),\n",
        "         (('Tanzania', ('Sudan', ('BurkinaFaso', 'Ghana'))),\n",
        "          (((('Haiti', ('PapuaNewGuinea', 'Guatemala')),\n",
        "             ('Morocco',\n",
        "              ('RussianFederation',\n",
        "               ('SyrianArabRepublic', ('SriLanka', ('KoreaRep', 'Chile')))))),\n",
        "            (('EgyptArabRep', 'Eritrea'),\n",
        "             ('Vietnam',\n",
        "              (('Malaysia', ('EquatorialGuinea', ('Turkmenistan', 'Cuba'))),\n",
        "               ('Ecuador', ('Ukraine', 'Tunisia')))))),\n",
        "           (('Philippines', ('Liberia', ('Bolivia', 'Colombia'))),\n",
        "            ('Brazil',\n",
        "             ('Algeria',\n",
        "              ('Iraq',\n",
        "               ('Honduras',\n",
        "                (('France', 'WestBankandGaza'),\n",
        "                 ('Japan', 'Djibouti')))))))))))),\n",
        "      ('SouthAsia',\n",
        "       ('Nigeria',\n",
        "        ((('Angola', 'Mozambique'), ('Uganda', ('Guinea', 'Madagascar'))),\n",
        "         ('Pakistan',\n",
        "          (('YemenRep', 'Burundi'),\n",
        "           (('Benin',\n",
        "             ('Mauritania', ('GuineaBissau', ('Paraguay', 'Namibia')))),\n",
        "            ('CentralAfricanRepublic',\n",
        "             ('CongoRep',\n",
        "              ('Lesotho',\n",
        "               ('Swaziland',\n",
        "                ('Comoros', ('Jamaica', ('Georgia', 'Spain'))))))))))))))))))\n",
        "\n",
        "for parent, children in hierarchy:\n",
        "    if isinstance(children, tuple):\n",
        "        print(f\"{parent}:{children}\")\n"
      ],
      "metadata": {
        "colab": {
          "base_uri": "https://localhost:8080/"
        },
        "id": "PLQ0mFeUIXpJ",
        "outputId": "be1a0f69-7964-496b-8a3e-6a5fc388e8ac"
      },
      "execution_count": null,
      "outputs": [
        {
          "output_type": "stream",
          "name": "stdout",
          "text": [
            "Malta:('Estonia', 'Grenada')\n",
            "((('Suriname', ('Oman', ('Ireland', 'UnitedArabEmirates'))), ('Poland', ('Albania', ('Maldives', 'CaboVerde')))), ('Belarus', ('Lithuania', 'BahamasThe'))):((('Rwanda', ('Cambodia', ('IranIslamicRep', (('Tajikistan', 'SaudiArabia'), ('Kazakhstan', ('Azerbaijan', (('Armenia', 'Libya'), ('Moldova', 'Lebanon')))))))), ('SouthAfrica', ('Turkey', (('TimorLeste', ('Romania', 'ElSalvador')), ('DominicanRepublic', (('Mongolia', 'Bhutan'), (((('SaoTomeandPrincipe', ('Sweden', 'Switzerland')), ('TrinidadandTobago', (('Bahrain', 'Qatar'), ('Tonga', 'Kuwait')))), ('Netherlands', ('PuertoRico', ('Denmark', ('MacedoniaFYR', ('Cyprus', 'StVincentandtheGrenadines')))))), (('Hungary', ('Mauritius', ('Croatia', ('BruneiDarussalam', 'Finland')))), (('Singapore', ('Norway', 'Belize')), ('CzechRepublic', ('Austria', ('Barbados', 'StLucia')))))))))))), (((('CongoDemRep', (('CotedIvoire', 'Niger'), ('Cameroon', 'Chad'))), (('MiddleEast&NorthAfrica', ('Malawi', 'Mali')), (('Somalia', 'SouthSudan'), ('SierraLeone', ('Zambia', ('Togo', ('Argentina', ('Nicaragua', ('Jordan', ('Germany', ('Italy', 'CostaRica'))))))))))), (('Bangladesh', (('Myanmar', 'Europe&CentralAsia'), ('Nepal', ('Mexico', ('LaoPDR', 'Peru'))))), (('China', 'Afghanistan'), ('Kenya', (('Senegal', (('UnitedStates', 'GambiaThe'), ('VenezuelaRB', 'NorthAmerica'))), ('Zimbabwe', (('KoreaDemPeople’sRep', ('Gabon', ('UnitedKingdom', ('Guyana', ('Australia', ('Belgium', 'Israel')))))), (('Thailand', ('Botswana', (('SolomonIslands', (('Fiji', 'Vanuatu'), (('Kiribati', 'MicronesiaFedSts'), ('Samoa', 'SlovakRepublic')))), (('Portugal', 'Uruguay'), ('Bulgaria', ('BosniaandHerzegovina', 'Latvia')))))), ('Uzbekistan', ('KyrgyzRepublic', ('Panama', ('Canada', ('Serbia', ('NewZealand', ('Greece', ('Slovenia', ('Luxembourg', 'Montenegro'))))))))))))))))), (('Sub-SaharanAfrica', ('India', (('Ethiopia', ('Indonesia', 'LatinAmerica&Caribbean')), (('Tanzania', ('Sudan', ('BurkinaFaso', 'Ghana'))), (((('Haiti', ('PapuaNewGuinea', 'Guatemala')), ('Morocco', ('RussianFederation', ('SyrianArabRepublic', ('SriLanka', ('KoreaRep', 'Chile')))))), (('EgyptArabRep', 'Eritrea'), ('Vietnam', (('Malaysia', ('EquatorialGuinea', ('Turkmenistan', 'Cuba'))), ('Ecuador', ('Ukraine', 'Tunisia')))))), (('Philippines', ('Liberia', ('Bolivia', 'Colombia'))), ('Brazil', ('Algeria', ('Iraq', ('Honduras', (('France', 'WestBankandGaza'), ('Japan', 'Djibouti')))))))))))), ('SouthAsia', ('Nigeria', ((('Angola', 'Mozambique'), ('Uganda', ('Guinea', 'Madagascar'))), ('Pakistan', (('YemenRep', 'Burundi'), (('Benin', ('Mauritania', ('GuineaBissau', ('Paraguay', 'Namibia')))), ('CentralAfricanRepublic', ('CongoRep', ('Lesotho', ('Swaziland', ('Comoros', ('Jamaica', ('Georgia', 'Spain'))))))))))))))))\n"
          ]
        }
      ]
    },
    {
      "cell_type": "code",
      "source": [
        "a"
      ],
      "metadata": {
        "colab": {
          "base_uri": "https://localhost:8080/"
        },
        "id": "7nckF_cB7AQO",
        "outputId": "a715a67d-11a0-4814-da78-3ec62926b09c"
      },
      "execution_count": null,
      "outputs": [
        {
          "output_type": "execute_result",
          "data": {
            "text/plain": [
              "[(('Malta', ('Estonia', 'Grenada')),\n",
              "  (((('Suriname', ('Oman', ('Ireland', 'UnitedArabEmirates'))),\n",
              "     ('Poland', ('Albania', ('Maldives', 'CaboVerde')))),\n",
              "    ('Belarus', ('Lithuania', 'BahamasThe'))),\n",
              "   ((('Rwanda',\n",
              "      ('Cambodia',\n",
              "       ('IranIslamicRep',\n",
              "        (('Tajikistan', 'SaudiArabia'),\n",
              "         ('Kazakhstan',\n",
              "          ('Azerbaijan', (('Armenia', 'Libya'), ('Moldova', 'Lebanon')))))))),\n",
              "     ('SouthAfrica',\n",
              "      ('Turkey',\n",
              "       (('TimorLeste', ('Romania', 'ElSalvador')),\n",
              "        ('DominicanRepublic',\n",
              "         (('Mongolia', 'Bhutan'),\n",
              "          (((('SaoTomeandPrincipe', ('Sweden', 'Switzerland')),\n",
              "             ('TrinidadandTobago',\n",
              "              (('Bahrain', 'Qatar'), ('Tonga', 'Kuwait')))),\n",
              "            ('Netherlands',\n",
              "             ('PuertoRico',\n",
              "              ('Denmark',\n",
              "               ('MacedoniaFYR', ('Cyprus', 'StVincentandtheGrenadines')))))),\n",
              "           (('Hungary',\n",
              "             ('Mauritius', ('Croatia', ('BruneiDarussalam', 'Finland')))),\n",
              "            (('Singapore', ('Norway', 'Belize')),\n",
              "             ('CzechRepublic', ('Austria', ('Barbados', 'StLucia')))))))))))),\n",
              "    (((('CongoDemRep', (('CotedIvoire', 'Niger'), ('Cameroon', 'Chad'))),\n",
              "       (('MiddleEast&NorthAfrica', ('Malawi', 'Mali')),\n",
              "        (('Somalia', 'SouthSudan'),\n",
              "         ('SierraLeone',\n",
              "          ('Zambia',\n",
              "           ('Togo',\n",
              "            ('Argentina',\n",
              "             ('Nicaragua',\n",
              "              ('Jordan', ('Germany', ('Italy', 'CostaRica'))))))))))),\n",
              "      (('Bangladesh',\n",
              "        (('Myanmar', 'Europe&CentralAsia'),\n",
              "         ('Nepal', ('Mexico', ('LaoPDR', 'Peru'))))),\n",
              "       (('China', 'Afghanistan'),\n",
              "        ('Kenya',\n",
              "         (('Senegal',\n",
              "           (('UnitedStates', 'GambiaThe'), ('VenezuelaRB', 'NorthAmerica'))),\n",
              "          ('Zimbabwe',\n",
              "           (('KoreaDemPeople’sRep',\n",
              "             ('Gabon',\n",
              "              ('UnitedKingdom',\n",
              "               ('Guyana', ('Australia', ('Belgium', 'Israel')))))),\n",
              "            (('Thailand',\n",
              "              ('Botswana',\n",
              "               (('SolomonIslands',\n",
              "                 (('Fiji', 'Vanuatu'),\n",
              "                  (('Kiribati', 'MicronesiaFedSts'),\n",
              "                   ('Samoa', 'SlovakRepublic')))),\n",
              "                (('Portugal', 'Uruguay'),\n",
              "                 ('Bulgaria', ('BosniaandHerzegovina', 'Latvia')))))),\n",
              "             ('Uzbekistan',\n",
              "              ('KyrgyzRepublic',\n",
              "               ('Panama',\n",
              "                ('Canada',\n",
              "                 ('Serbia',\n",
              "                  ('NewZealand',\n",
              "                   ('Greece',\n",
              "                    ('Slovenia', ('Luxembourg', 'Montenegro'))))))))))))))))),\n",
              "     (('Sub-SaharanAfrica',\n",
              "       ('India',\n",
              "        (('Ethiopia', ('Indonesia', 'LatinAmerica&Caribbean')),\n",
              "         (('Tanzania', ('Sudan', ('BurkinaFaso', 'Ghana'))),\n",
              "          (((('Haiti', ('PapuaNewGuinea', 'Guatemala')),\n",
              "             ('Morocco',\n",
              "              ('RussianFederation',\n",
              "               ('SyrianArabRepublic', ('SriLanka', ('KoreaRep', 'Chile')))))),\n",
              "            (('EgyptArabRep', 'Eritrea'),\n",
              "             ('Vietnam',\n",
              "              (('Malaysia', ('EquatorialGuinea', ('Turkmenistan', 'Cuba'))),\n",
              "               ('Ecuador', ('Ukraine', 'Tunisia')))))),\n",
              "           (('Philippines', ('Liberia', ('Bolivia', 'Colombia'))),\n",
              "            ('Brazil',\n",
              "             ('Algeria',\n",
              "              ('Iraq',\n",
              "               ('Honduras',\n",
              "                (('France', 'WestBankandGaza'),\n",
              "                 ('Japan', 'Djibouti')))))))))))),\n",
              "      ('SouthAsia',\n",
              "       ('Nigeria',\n",
              "        ((('Angola', 'Mozambique'), ('Uganda', ('Guinea', 'Madagascar'))),\n",
              "         ('Pakistan',\n",
              "          (('YemenRep', 'Burundi'),\n",
              "           (('Benin',\n",
              "             ('Mauritania', ('GuineaBissau', ('Paraguay', 'Namibia')))),\n",
              "            ('CentralAfricanRepublic',\n",
              "             ('CongoRep',\n",
              "              ('Lesotho',\n",
              "               ('Swaziland',\n",
              "                ('Comoros', ('Jamaica', ('Georgia', 'Spain'))))))))))))))))))]"
            ]
          },
          "metadata": {},
          "execution_count": 26
        }
      ]
    },
    {
      "cell_type": "code",
      "source": [],
      "metadata": {
        "id": "k4Luwn-fCUqV"
      },
      "execution_count": null,
      "outputs": []
    },
    {
      "cell_type": "code",
      "source": [],
      "metadata": {
        "id": "SJ4dXJEoCUnB"
      },
      "execution_count": null,
      "outputs": []
    },
    {
      "cell_type": "code",
      "source": [],
      "metadata": {
        "id": "X5kUFrsCCUjj"
      },
      "execution_count": null,
      "outputs": []
    },
    {
      "cell_type": "code",
      "source": [],
      "metadata": {
        "id": "yGevkqjOCUYc"
      },
      "execution_count": null,
      "outputs": []
    },
    {
      "cell_type": "code",
      "source": [
        "class Node:\n",
        "    def __init__(self, value):\n",
        "        self.value = value\n",
        "        self.left = None\n",
        "        self.right = None\n",
        "\n",
        "def create_binary_pairing_tree(hierarchy):\n",
        "    # Initialize the root node of the binary pairing tree\n",
        "    root = Node(None)\n",
        "    nodes = [(root, hierarchy)]\n",
        "    \n",
        "    # Traverse the hierarchy and construct the binary pairing tree\n",
        "    while nodes:\n",
        "        parent, value = nodes.pop(0)\n",
        "        if isinstance(value, tuple):\n",
        "            left = Node(None)\n",
        "            right = Node(None)\n",
        "            parent.left = left\n",
        "            parent.right = right\n",
        "            nodes.append((left, value[0]))\n",
        "            nodes.append((right, value[1]))\n",
        "        else:\n",
        "            parent.value = value\n",
        "    \n",
        "    # Return the root node of the binary pairing tree\n",
        "    return root\n",
        "\n"
      ],
      "metadata": {
        "id": "lB7Rd3HX52xs"
      },
      "execution_count": null,
      "outputs": []
    },
    {
      "cell_type": "code",
      "source": [
        "hierarchy = ((('Malta', ('Estonia', 'Grenada')),\n",
        "  (((('Suriname', ('Oman', ('Ireland', 'UnitedArabEmirates'))),\n",
        "     ('Poland', ('Albania', ('Maldives', 'CaboVerde')))),\n",
        "    ('Belarus', ('Lithuania', 'BahamasThe'))),\n",
        "   ((('Rwanda',\n",
        "      ('Cambodia',\n",
        "       ('IranIslamicRep',\n",
        "        (('Tajikistan', 'SaudiArabia'),\n",
        "         ('Kazakhstan',\n",
        "          ('Azerbaijan', (('Armenia', 'Libya'), ('Moldova', 'Lebanon')))))))),\n",
        "     ('SouthAfrica',\n",
        "      ('Turkey',\n",
        "       (('TimorLeste', ('Romania', 'ElSalvador')),\n",
        "        ('DominicanRepublic',\n",
        "         (('Mongolia', 'Bhutan'),\n",
        "          (((('SaoTomeandPrincipe', ('Sweden', 'Switzerland')),\n",
        "             ('TrinidadandTobago',\n",
        "              (('Bahrain', 'Qatar'), ('Tonga', 'Kuwait')))),\n",
        "            ('Netherlands',\n",
        "             ('PuertoRico',\n",
        "              ('Denmark',\n",
        "               ('MacedoniaFYR', ('Cyprus', 'StVincentandtheGrenadines')))))),\n",
        "           (('Hungary',\n",
        "             ('Mauritius', ('Croatia', ('BruneiDarussalam', 'Finland')))),\n",
        "            (('Singapore', ('Norway', 'Belize')),\n",
        "             ('CzechRepublic', ('Austria', ('Barbados', 'StLucia')))))))))))),\n",
        "    (((('CongoDemRep', (('CotedIvoire', 'Niger'), ('Cameroon', 'Chad'))),\n",
        "       (('MiddleEast&NorthAfrica', ('Malawi', 'Mali')),\n",
        "        (('Somalia', 'SouthSudan'),\n",
        "         ('SierraLeone',\n",
        "          ('Zambia',\n",
        "           ('Togo',\n",
        "            ('Argentina',\n",
        "             ('Nicaragua',\n",
        "              ('Jordan', ('Germany', ('Italy', 'CostaRica'))))))))))),\n",
        "      (('Bangladesh',\n",
        "        (('Myanmar', 'Europe&CentralAsia'),\n",
        "         ('Nepal', ('Mexico', ('LaoPDR', 'Peru'))))),\n",
        "       (('China', 'Afghanistan'),\n",
        "        ('Kenya',\n",
        "         (('Senegal',\n",
        "           (('UnitedStates', 'GambiaThe'), ('VenezuelaRB', 'NorthAmerica'))),\n",
        "          ('Zimbabwe',\n",
        "           (('KoreaDemPeople’sRep',\n",
        "             ('Gabon',\n",
        "              ('UnitedKingdom',\n",
        "               ('Guyana', ('Australia', ('Belgium', 'Israel')))))),\n",
        "            (('Thailand',\n",
        "              ('Botswana',\n",
        "               (('SolomonIslands',\n",
        "                 (('Fiji', 'Vanuatu'),\n",
        "                  (('Kiribati', 'MicronesiaFedSts'),\n",
        "                   ('Samoa', 'SlovakRepublic')))),\n",
        "                (('Portugal', 'Uruguay'),\n",
        "                 ('Bulgaria', ('BosniaandHerzegovina', 'Latvia')))))),\n",
        "             ('Uzbekistan',\n",
        "              ('KyrgyzRepublic',\n",
        "               ('Panama',\n",
        "                ('Canada',\n",
        "                 ('Serbia',\n",
        "                  ('NewZealand',\n",
        "                   ('Greece',\n",
        "                    ('Slovenia', ('Luxembourg', 'Montenegro'))))))))))))))))),\n",
        "     (('Sub-SaharanAfrica',\n",
        "       ('India',\n",
        "        (('Ethiopia', ('Indonesia', 'LatinAmerica&Caribbean')),\n",
        "         (('Tanzania', ('Sudan', ('BurkinaFaso', 'Ghana'))),\n",
        "          (((('Haiti', ('PapuaNewGuinea', 'Guatemala')),\n",
        "             ('Morocco',\n",
        "              ('RussianFederation',\n",
        "               ('SyrianArabRepublic', ('SriLanka', ('KoreaRep', 'Chile')))))),\n",
        "            (('EgyptArabRep', 'Eritrea'),\n",
        "             ('Vietnam',\n",
        "              (('Malaysia', ('EquatorialGuinea', ('Turkmenistan', 'Cuba'))),\n",
        "               ('Ecuador', ('Ukraine', 'Tunisia')))))),\n",
        "           (('Philippines', ('Liberia', ('Bolivia', 'Colombia'))),\n",
        "            ('Brazil',\n",
        "             ('Algeria',\n",
        "              ('Iraq',\n",
        "               ('Honduras',\n",
        "                (('France', 'WestBankandGaza'),\n",
        "                 ('Japan', 'Djibouti')))))))))))),\n",
        "      ('SouthAsia',\n",
        "       ('Nigeria',\n",
        "        ((('Angola', 'Mozambique'), ('Uganda', ('Guinea', 'Madagascar'))),\n",
        "         ('Pakistan',\n",
        "          (('YemenRep', 'Burundi'),\n",
        "           (('Benin',\n",
        "             ('Mauritania', ('GuineaBissau', ('Paraguay', 'Namibia')))),\n",
        "            ('CentralAfricanRepublic',\n",
        "             ('CongoRep',\n",
        "              ('Lesotho',\n",
        "               ('Swaziland',\n",
        "                ('Comoros', ('Jamaica', ('Georgia', 'Spain')))))))))))))))))))\n",
        "root = create_binary_pairing_tree(hierarchy)"
      ],
      "metadata": {
        "id": "0aVFNMxDAKn4"
      },
      "execution_count": null,
      "outputs": []
    },
    {
      "cell_type": "code",
      "source": [
        "root"
      ],
      "metadata": {
        "colab": {
          "base_uri": "https://localhost:8080/"
        },
        "id": "_7bGbWlS55xc",
        "outputId": "43ce667f-0ee7-4711-ac69-6a20b62a4c90"
      },
      "execution_count": null,
      "outputs": [
        {
          "output_type": "execute_result",
          "data": {
            "text/plain": [
              "<__main__.Node at 0x7f30c7515f40>"
            ]
          },
          "metadata": {},
          "execution_count": 31
        }
      ]
    },
    {
      "cell_type": "code",
      "source": [],
      "metadata": {
        "id": "Dh0F3zji58GL"
      },
      "execution_count": null,
      "outputs": []
    },
    {
      "cell_type": "code",
      "source": [],
      "metadata": {
        "id": "mH78ocKT578W"
      },
      "execution_count": null,
      "outputs": []
    },
    {
      "cell_type": "code",
      "source": [
        "def tree_to_dict(tree):\n",
        "    \"\"\"\n",
        "    Converts a binary tree to a dictionary representing parent-child relationships\n",
        "    \"\"\"\n",
        "    def traverse(node, d):\n",
        "        if node:\n",
        "            if node.left:\n",
        "                d[node.left.value] = node.value\n",
        "                traverse(node.left, d)\n",
        "            if node.right:\n",
        "                d[node.right.value] = node.value\n",
        "                traverse(node.right, d)\n",
        "    root = tree.val\n",
        "    d = {}\n",
        "    traverse(root, d)\n",
        "    return d"
      ],
      "metadata": {
        "id": "CGrzgZ6B_6dv"
      },
      "execution_count": null,
      "outputs": []
    },
    {
      "cell_type": "code",
      "source": [
        "tree_to_dict(tree)"
      ],
      "metadata": {
        "colab": {
          "base_uri": "https://localhost:8080/",
          "height": 311
        },
        "id": "TOMslEma_6UW",
        "outputId": "ce01d79c-7228-4579-8bce-75d185a8171d"
      },
      "execution_count": null,
      "outputs": [
        {
          "output_type": "error",
          "ename": "AttributeError",
          "evalue": "ignored",
          "traceback": [
            "\u001b[0;31m---------------------------------------------------------------------------\u001b[0m",
            "\u001b[0;31mAttributeError\u001b[0m                            Traceback (most recent call last)",
            "\u001b[0;32m<ipython-input-42-b67b00ef6260>\u001b[0m in \u001b[0;36m<cell line: 1>\u001b[0;34m()\u001b[0m\n\u001b[0;32m----> 1\u001b[0;31m \u001b[0mtree_to_dict\u001b[0m\u001b[0;34m(\u001b[0m\u001b[0mtree\u001b[0m\u001b[0;34m)\u001b[0m\u001b[0;34m\u001b[0m\u001b[0;34m\u001b[0m\u001b[0m\n\u001b[0m",
            "\u001b[0;32m<ipython-input-41-2f2a2e9a4a21>\u001b[0m in \u001b[0;36mtree_to_dict\u001b[0;34m(tree)\u001b[0m\n\u001b[1;32m     13\u001b[0m     \u001b[0mroot\u001b[0m \u001b[0;34m=\u001b[0m \u001b[0mtree\u001b[0m\u001b[0;34m.\u001b[0m\u001b[0mval\u001b[0m\u001b[0;34m\u001b[0m\u001b[0;34m\u001b[0m\u001b[0m\n\u001b[1;32m     14\u001b[0m     \u001b[0md\u001b[0m \u001b[0;34m=\u001b[0m \u001b[0;34m{\u001b[0m\u001b[0;34m}\u001b[0m\u001b[0;34m\u001b[0m\u001b[0;34m\u001b[0m\u001b[0m\n\u001b[0;32m---> 15\u001b[0;31m     \u001b[0mtraverse\u001b[0m\u001b[0;34m(\u001b[0m\u001b[0mroot\u001b[0m\u001b[0;34m,\u001b[0m \u001b[0md\u001b[0m\u001b[0;34m)\u001b[0m\u001b[0;34m\u001b[0m\u001b[0;34m\u001b[0m\u001b[0m\n\u001b[0m\u001b[1;32m     16\u001b[0m     \u001b[0;32mreturn\u001b[0m \u001b[0md\u001b[0m\u001b[0;34m\u001b[0m\u001b[0;34m\u001b[0m\u001b[0m\n",
            "\u001b[0;32m<ipython-input-41-2f2a2e9a4a21>\u001b[0m in \u001b[0;36mtraverse\u001b[0;34m(node, d)\u001b[0m\n\u001b[1;32m      5\u001b[0m     \u001b[0;32mdef\u001b[0m \u001b[0mtraverse\u001b[0m\u001b[0;34m(\u001b[0m\u001b[0mnode\u001b[0m\u001b[0;34m,\u001b[0m \u001b[0md\u001b[0m\u001b[0;34m)\u001b[0m\u001b[0;34m:\u001b[0m\u001b[0;34m\u001b[0m\u001b[0;34m\u001b[0m\u001b[0m\n\u001b[1;32m      6\u001b[0m         \u001b[0;32mif\u001b[0m \u001b[0mnode\u001b[0m\u001b[0;34m:\u001b[0m\u001b[0;34m\u001b[0m\u001b[0;34m\u001b[0m\u001b[0m\n\u001b[0;32m----> 7\u001b[0;31m             \u001b[0;32mif\u001b[0m \u001b[0mnode\u001b[0m\u001b[0;34m.\u001b[0m\u001b[0mleft\u001b[0m\u001b[0;34m:\u001b[0m\u001b[0;34m\u001b[0m\u001b[0;34m\u001b[0m\u001b[0m\n\u001b[0m\u001b[1;32m      8\u001b[0m                 \u001b[0md\u001b[0m\u001b[0;34m[\u001b[0m\u001b[0mnode\u001b[0m\u001b[0;34m.\u001b[0m\u001b[0mleft\u001b[0m\u001b[0;34m.\u001b[0m\u001b[0mvalue\u001b[0m\u001b[0;34m]\u001b[0m \u001b[0;34m=\u001b[0m \u001b[0mnode\u001b[0m\u001b[0;34m.\u001b[0m\u001b[0mvalue\u001b[0m\u001b[0;34m\u001b[0m\u001b[0;34m\u001b[0m\u001b[0m\n\u001b[1;32m      9\u001b[0m                 \u001b[0mtraverse\u001b[0m\u001b[0;34m(\u001b[0m\u001b[0mnode\u001b[0m\u001b[0;34m.\u001b[0m\u001b[0mleft\u001b[0m\u001b[0;34m,\u001b[0m \u001b[0md\u001b[0m\u001b[0;34m)\u001b[0m\u001b[0;34m\u001b[0m\u001b[0;34m\u001b[0m\u001b[0m\n",
            "\u001b[0;31mAttributeError\u001b[0m: 'tuple' object has no attribute 'left'"
          ]
        }
      ]
    },
    {
      "cell_type": "code",
      "source": [],
      "metadata": {
        "id": "C4mDVcA5_6Q8"
      },
      "execution_count": null,
      "outputs": []
    },
    {
      "cell_type": "code",
      "source": [
        "\n",
        "def costmatrix(v):\n",
        " cmatrix = []\n",
        " for i in range(len(v)):\n",
        "   l = []\n",
        "   for j in range(len(v)):\n",
        "     l.append(costfunc(v[i],v[j]))\n",
        "   cmatrix.append(l)\n",
        " return cmatrix"
      ],
      "metadata": {
        "id": "03pJinyJw5pB"
      },
      "execution_count": null,
      "outputs": []
    },
    {
      "cell_type": "code",
      "source": [
        "def flatandsort(cmat):\n",
        "  d = np.diag(cmat)\n",
        "  g = np.array(cmat)\n",
        "  h = [i for i in g.flatten() if i not in d]\n",
        "  return min(h)"
      ],
      "metadata": {
        "id": "UVdZ60cFw5mZ"
      },
      "execution_count": null,
      "outputs": []
    },
    {
      "cell_type": "code",
      "source": [
        "def lowcostpair(a,cmat,f):\n",
        "  p = []\n",
        "  for i in range(len(cmat)):\n",
        "    for j in range(len(costmatrix(v)[i])):\n",
        "      if f[a[i]][j]==flatandsort(cmat):\n",
        "        p.append([a[i],a[j]])\n",
        "        p.append(i)\n",
        "        p.append(j)\n",
        "  return p\n"
      ],
      "metadata": {
        "id": "C77xaLJnw5g7"
      },
      "execution_count": null,
      "outputs": []
    },
    {
      "cell_type": "code",
      "source": [
        "len(vuu)"
      ],
      "metadata": {
        "colab": {
          "base_uri": "https://localhost:8080/"
        },
        "id": "lzo0ZdWGy6AJ",
        "outputId": "afd53e76-633e-46fc-cf92-9b596609609c"
      },
      "execution_count": null,
      "outputs": [
        {
          "output_type": "execute_result",
          "data": {
            "text/plain": [
              "9"
            ]
          },
          "metadata": {},
          "execution_count": 70
        }
      ]
    },
    {
      "cell_type": "code",
      "source": [
        "while(len(v)>1):\n",
        "  cm = costmatrix(v)\n",
        "  ncm = flatandsort(cm)\n",
        "  f = dict(zip(a,cm))\n",
        "  lp = lowcostpair(a,cm,f)\n",
        "  u = np.add(v[a.index(lp[0][0])],v[a.index(lp[0][1])])\n",
        "  v = [v[i] for i in range(len(v)) if i!=a.index(lp[0][0]) and i!=a.index(lp[0][1])]\n",
        "  v.append(np.array(u))\n",
        "  a = [i for i in a if i!=lp[0][0] and i!=lp[0][1]]\n",
        "  a.append((lp[0][0],lp[0][1]))\n",
        "    "
      ],
      "metadata": {
        "id": "VxaenbP1w5dk"
      },
      "execution_count": null,
      "outputs": []
    },
    {
      "cell_type": "code",
      "source": [
        "print(a)"
      ],
      "metadata": {
        "colab": {
          "base_uri": "https://localhost:8080/"
        },
        "id": "9HwvB_hmIdsG",
        "outputId": "5f47c406-c768-41e7-888f-7012c9b0e5cb"
      },
      "execution_count": null,
      "outputs": [
        {
          "output_type": "stream",
          "name": "stdout",
          "text": [
            "[((('BruneiDarussalam', 'Kiribati'), ('Fiji', 'Australia')), (((('KoreaRep', 'Japan'), 'KoreaDemPeople’sRep'), 'Cambodia'), ('Indonesia', 'China')))]\n"
          ]
        }
      ]
    },
    {
      "cell_type": "code",
      "source": [
        "for i in a:\n",
        "  print(i)"
      ],
      "metadata": {
        "id": "71sTfjuPw5bG",
        "colab": {
          "base_uri": "https://localhost:8080/"
        },
        "outputId": "5e9295b9-e60b-40b7-9a79-c7e0938595ef"
      },
      "execution_count": null,
      "outputs": [
        {
          "output_type": "stream",
          "name": "stdout",
          "text": [
            "((('BruneiDarussalam', 'Kiribati'), ('Fiji', 'Australia')), (((('KoreaRep', 'Japan'), 'KoreaDemPeople’sRep'), 'Cambodia'), ('Indonesia', 'China')))\n"
          ]
        }
      ]
    },
    {
      "cell_type": "code",
      "source": [
        "import plotly.express as px"
      ],
      "metadata": {
        "id": "geqSEC4ew5V0"
      },
      "execution_count": null,
      "outputs": []
    },
    {
      "cell_type": "code",
      "source": [
        "fig = px.treemap(\n",
        "    names = [('BruneiDarussalam', 'Kiribati'),('Fiji', 'Australia'),('KoreaRep', 'Japan'),'KoreaDemPeople’sRep','Cambodia',('Indonesia', 'China')],\n",
        "    parents = [((('BruneiDarussalam', 'Kiribati'), ('Fiji', 'Australia')), (((('KoreaRep', 'Japan'), 'KoreaDemPeople’sRep'), 'Cambodia'), ('Indonesia', 'China'))),((('BruneiDarussalam', 'Kiribati'), ('Fiji', 'Australia')), (((('KoreaRep', 'Japan'), 'KoreaDemPeople’sRep'), 'Cambodia'), ('Indonesia', 'China'))),'KoreaDemPeople’sRep','Cambodia',((('BruneiDarussalam', 'Kiribati'), ('Fiji', 'Australia')), (((('KoreaRep', 'Japan'), 'KoreaDemPeople’sRep'), 'Cambodia'), ('Indonesia', 'China'))),((('BruneiDarussalam', 'Kiribati'), ('Fiji', 'Australia')), (((('KoreaRep', 'Japan'), 'KoreaDemPeople’sRep'), 'Cambodia'), ('Indonesia', 'China')))]\n",
        ")\n",
        "fig.update_traces(root_color=\"lightgrey\")\n",
        "fig.update_layout(margin = dict(t=50, l=25, r=25, b=25))\n",
        "fig.show()"
      ],
      "metadata": {
        "id": "SFqMse54w5S4",
        "colab": {
          "base_uri": "https://localhost:8080/",
          "height": 542
        },
        "outputId": "4e0f28ac-aa93-48ff-d6d5-c7d97ae8f41b"
      },
      "execution_count": null,
      "outputs": [
        {
          "output_type": "display_data",
          "data": {
            "text/html": [
              "<html>\n",
              "<head><meta charset=\"utf-8\" /></head>\n",
              "<body>\n",
              "    <div>            <script src=\"https://cdnjs.cloudflare.com/ajax/libs/mathjax/2.7.5/MathJax.js?config=TeX-AMS-MML_SVG\"></script><script type=\"text/javascript\">if (window.MathJax) {MathJax.Hub.Config({SVG: {font: \"STIX-Web\"}});}</script>                <script type=\"text/javascript\">window.PlotlyConfig = {MathJaxConfig: 'local'};</script>\n",
              "        <script src=\"https://cdn.plot.ly/plotly-2.8.3.min.js\"></script>                <div id=\"5376ca8e-5f3a-4de6-bc9e-da63c88544b4\" class=\"plotly-graph-div\" style=\"height:525px; width:100%;\"></div>            <script type=\"text/javascript\">                                    window.PLOTLYENV=window.PLOTLYENV || {};                                    if (document.getElementById(\"5376ca8e-5f3a-4de6-bc9e-da63c88544b4\")) {                    Plotly.newPlot(                        \"5376ca8e-5f3a-4de6-bc9e-da63c88544b4\",                        [{\"domain\":{\"x\":[0.0,1.0],\"y\":[0.0,1.0]},\"hovertemplate\":\"label=%{label}<br>parent=%{parent}<extra></extra>\",\"labels\":[[\"BruneiDarussalam\",\"Kiribati\"],[\"Fiji\",\"Australia\"],[\"KoreaRep\",\"Japan\"],\"KoreaDemPeople\\u2019sRep\",\"Cambodia\",[\"Indonesia\",\"China\"]],\"name\":\"\",\"parents\":[[[[\"BruneiDarussalam\",\"Kiribati\"],[\"Fiji\",\"Australia\"]],[[[[\"KoreaRep\",\"Japan\"],\"KoreaDemPeople\\u2019sRep\"],\"Cambodia\"],[\"Indonesia\",\"China\"]]],[[[\"BruneiDarussalam\",\"Kiribati\"],[\"Fiji\",\"Australia\"]],[[[[\"KoreaRep\",\"Japan\"],\"KoreaDemPeople\\u2019sRep\"],\"Cambodia\"],[\"Indonesia\",\"China\"]]],\"KoreaDemPeople\\u2019sRep\",\"Cambodia\",[[[\"BruneiDarussalam\",\"Kiribati\"],[\"Fiji\",\"Australia\"]],[[[[\"KoreaRep\",\"Japan\"],\"KoreaDemPeople\\u2019sRep\"],\"Cambodia\"],[\"Indonesia\",\"China\"]]],[[[\"BruneiDarussalam\",\"Kiribati\"],[\"Fiji\",\"Australia\"]],[[[[\"KoreaRep\",\"Japan\"],\"KoreaDemPeople\\u2019sRep\"],\"Cambodia\"],[\"Indonesia\",\"China\"]]]],\"type\":\"treemap\",\"root\":{\"color\":\"lightgrey\"}}],                        {\"template\":{\"data\":{\"bar\":[{\"error_x\":{\"color\":\"#2a3f5f\"},\"error_y\":{\"color\":\"#2a3f5f\"},\"marker\":{\"line\":{\"color\":\"#E5ECF6\",\"width\":0.5},\"pattern\":{\"fillmode\":\"overlay\",\"size\":10,\"solidity\":0.2}},\"type\":\"bar\"}],\"barpolar\":[{\"marker\":{\"line\":{\"color\":\"#E5ECF6\",\"width\":0.5},\"pattern\":{\"fillmode\":\"overlay\",\"size\":10,\"solidity\":0.2}},\"type\":\"barpolar\"}],\"carpet\":[{\"aaxis\":{\"endlinecolor\":\"#2a3f5f\",\"gridcolor\":\"white\",\"linecolor\":\"white\",\"minorgridcolor\":\"white\",\"startlinecolor\":\"#2a3f5f\"},\"baxis\":{\"endlinecolor\":\"#2a3f5f\",\"gridcolor\":\"white\",\"linecolor\":\"white\",\"minorgridcolor\":\"white\",\"startlinecolor\":\"#2a3f5f\"},\"type\":\"carpet\"}],\"choropleth\":[{\"colorbar\":{\"outlinewidth\":0,\"ticks\":\"\"},\"type\":\"choropleth\"}],\"contour\":[{\"colorbar\":{\"outlinewidth\":0,\"ticks\":\"\"},\"colorscale\":[[0.0,\"#0d0887\"],[0.1111111111111111,\"#46039f\"],[0.2222222222222222,\"#7201a8\"],[0.3333333333333333,\"#9c179e\"],[0.4444444444444444,\"#bd3786\"],[0.5555555555555556,\"#d8576b\"],[0.6666666666666666,\"#ed7953\"],[0.7777777777777778,\"#fb9f3a\"],[0.8888888888888888,\"#fdca26\"],[1.0,\"#f0f921\"]],\"type\":\"contour\"}],\"contourcarpet\":[{\"colorbar\":{\"outlinewidth\":0,\"ticks\":\"\"},\"type\":\"contourcarpet\"}],\"heatmap\":[{\"colorbar\":{\"outlinewidth\":0,\"ticks\":\"\"},\"colorscale\":[[0.0,\"#0d0887\"],[0.1111111111111111,\"#46039f\"],[0.2222222222222222,\"#7201a8\"],[0.3333333333333333,\"#9c179e\"],[0.4444444444444444,\"#bd3786\"],[0.5555555555555556,\"#d8576b\"],[0.6666666666666666,\"#ed7953\"],[0.7777777777777778,\"#fb9f3a\"],[0.8888888888888888,\"#fdca26\"],[1.0,\"#f0f921\"]],\"type\":\"heatmap\"}],\"heatmapgl\":[{\"colorbar\":{\"outlinewidth\":0,\"ticks\":\"\"},\"colorscale\":[[0.0,\"#0d0887\"],[0.1111111111111111,\"#46039f\"],[0.2222222222222222,\"#7201a8\"],[0.3333333333333333,\"#9c179e\"],[0.4444444444444444,\"#bd3786\"],[0.5555555555555556,\"#d8576b\"],[0.6666666666666666,\"#ed7953\"],[0.7777777777777778,\"#fb9f3a\"],[0.8888888888888888,\"#fdca26\"],[1.0,\"#f0f921\"]],\"type\":\"heatmapgl\"}],\"histogram\":[{\"marker\":{\"pattern\":{\"fillmode\":\"overlay\",\"size\":10,\"solidity\":0.2}},\"type\":\"histogram\"}],\"histogram2d\":[{\"colorbar\":{\"outlinewidth\":0,\"ticks\":\"\"},\"colorscale\":[[0.0,\"#0d0887\"],[0.1111111111111111,\"#46039f\"],[0.2222222222222222,\"#7201a8\"],[0.3333333333333333,\"#9c179e\"],[0.4444444444444444,\"#bd3786\"],[0.5555555555555556,\"#d8576b\"],[0.6666666666666666,\"#ed7953\"],[0.7777777777777778,\"#fb9f3a\"],[0.8888888888888888,\"#fdca26\"],[1.0,\"#f0f921\"]],\"type\":\"histogram2d\"}],\"histogram2dcontour\":[{\"colorbar\":{\"outlinewidth\":0,\"ticks\":\"\"},\"colorscale\":[[0.0,\"#0d0887\"],[0.1111111111111111,\"#46039f\"],[0.2222222222222222,\"#7201a8\"],[0.3333333333333333,\"#9c179e\"],[0.4444444444444444,\"#bd3786\"],[0.5555555555555556,\"#d8576b\"],[0.6666666666666666,\"#ed7953\"],[0.7777777777777778,\"#fb9f3a\"],[0.8888888888888888,\"#fdca26\"],[1.0,\"#f0f921\"]],\"type\":\"histogram2dcontour\"}],\"mesh3d\":[{\"colorbar\":{\"outlinewidth\":0,\"ticks\":\"\"},\"type\":\"mesh3d\"}],\"parcoords\":[{\"line\":{\"colorbar\":{\"outlinewidth\":0,\"ticks\":\"\"}},\"type\":\"parcoords\"}],\"pie\":[{\"automargin\":true,\"type\":\"pie\"}],\"scatter\":[{\"marker\":{\"colorbar\":{\"outlinewidth\":0,\"ticks\":\"\"}},\"type\":\"scatter\"}],\"scatter3d\":[{\"line\":{\"colorbar\":{\"outlinewidth\":0,\"ticks\":\"\"}},\"marker\":{\"colorbar\":{\"outlinewidth\":0,\"ticks\":\"\"}},\"type\":\"scatter3d\"}],\"scattercarpet\":[{\"marker\":{\"colorbar\":{\"outlinewidth\":0,\"ticks\":\"\"}},\"type\":\"scattercarpet\"}],\"scattergeo\":[{\"marker\":{\"colorbar\":{\"outlinewidth\":0,\"ticks\":\"\"}},\"type\":\"scattergeo\"}],\"scattergl\":[{\"marker\":{\"colorbar\":{\"outlinewidth\":0,\"ticks\":\"\"}},\"type\":\"scattergl\"}],\"scattermapbox\":[{\"marker\":{\"colorbar\":{\"outlinewidth\":0,\"ticks\":\"\"}},\"type\":\"scattermapbox\"}],\"scatterpolar\":[{\"marker\":{\"colorbar\":{\"outlinewidth\":0,\"ticks\":\"\"}},\"type\":\"scatterpolar\"}],\"scatterpolargl\":[{\"marker\":{\"colorbar\":{\"outlinewidth\":0,\"ticks\":\"\"}},\"type\":\"scatterpolargl\"}],\"scatterternary\":[{\"marker\":{\"colorbar\":{\"outlinewidth\":0,\"ticks\":\"\"}},\"type\":\"scatterternary\"}],\"surface\":[{\"colorbar\":{\"outlinewidth\":0,\"ticks\":\"\"},\"colorscale\":[[0.0,\"#0d0887\"],[0.1111111111111111,\"#46039f\"],[0.2222222222222222,\"#7201a8\"],[0.3333333333333333,\"#9c179e\"],[0.4444444444444444,\"#bd3786\"],[0.5555555555555556,\"#d8576b\"],[0.6666666666666666,\"#ed7953\"],[0.7777777777777778,\"#fb9f3a\"],[0.8888888888888888,\"#fdca26\"],[1.0,\"#f0f921\"]],\"type\":\"surface\"}],\"table\":[{\"cells\":{\"fill\":{\"color\":\"#EBF0F8\"},\"line\":{\"color\":\"white\"}},\"header\":{\"fill\":{\"color\":\"#C8D4E3\"},\"line\":{\"color\":\"white\"}},\"type\":\"table\"}]},\"layout\":{\"annotationdefaults\":{\"arrowcolor\":\"#2a3f5f\",\"arrowhead\":0,\"arrowwidth\":1},\"autotypenumbers\":\"strict\",\"coloraxis\":{\"colorbar\":{\"outlinewidth\":0,\"ticks\":\"\"}},\"colorscale\":{\"diverging\":[[0,\"#8e0152\"],[0.1,\"#c51b7d\"],[0.2,\"#de77ae\"],[0.3,\"#f1b6da\"],[0.4,\"#fde0ef\"],[0.5,\"#f7f7f7\"],[0.6,\"#e6f5d0\"],[0.7,\"#b8e186\"],[0.8,\"#7fbc41\"],[0.9,\"#4d9221\"],[1,\"#276419\"]],\"sequential\":[[0.0,\"#0d0887\"],[0.1111111111111111,\"#46039f\"],[0.2222222222222222,\"#7201a8\"],[0.3333333333333333,\"#9c179e\"],[0.4444444444444444,\"#bd3786\"],[0.5555555555555556,\"#d8576b\"],[0.6666666666666666,\"#ed7953\"],[0.7777777777777778,\"#fb9f3a\"],[0.8888888888888888,\"#fdca26\"],[1.0,\"#f0f921\"]],\"sequentialminus\":[[0.0,\"#0d0887\"],[0.1111111111111111,\"#46039f\"],[0.2222222222222222,\"#7201a8\"],[0.3333333333333333,\"#9c179e\"],[0.4444444444444444,\"#bd3786\"],[0.5555555555555556,\"#d8576b\"],[0.6666666666666666,\"#ed7953\"],[0.7777777777777778,\"#fb9f3a\"],[0.8888888888888888,\"#fdca26\"],[1.0,\"#f0f921\"]]},\"colorway\":[\"#636efa\",\"#EF553B\",\"#00cc96\",\"#ab63fa\",\"#FFA15A\",\"#19d3f3\",\"#FF6692\",\"#B6E880\",\"#FF97FF\",\"#FECB52\"],\"font\":{\"color\":\"#2a3f5f\"},\"geo\":{\"bgcolor\":\"white\",\"lakecolor\":\"white\",\"landcolor\":\"#E5ECF6\",\"showlakes\":true,\"showland\":true,\"subunitcolor\":\"white\"},\"hoverlabel\":{\"align\":\"left\"},\"hovermode\":\"closest\",\"mapbox\":{\"style\":\"light\"},\"paper_bgcolor\":\"white\",\"plot_bgcolor\":\"#E5ECF6\",\"polar\":{\"angularaxis\":{\"gridcolor\":\"white\",\"linecolor\":\"white\",\"ticks\":\"\"},\"bgcolor\":\"#E5ECF6\",\"radialaxis\":{\"gridcolor\":\"white\",\"linecolor\":\"white\",\"ticks\":\"\"}},\"scene\":{\"xaxis\":{\"backgroundcolor\":\"#E5ECF6\",\"gridcolor\":\"white\",\"gridwidth\":2,\"linecolor\":\"white\",\"showbackground\":true,\"ticks\":\"\",\"zerolinecolor\":\"white\"},\"yaxis\":{\"backgroundcolor\":\"#E5ECF6\",\"gridcolor\":\"white\",\"gridwidth\":2,\"linecolor\":\"white\",\"showbackground\":true,\"ticks\":\"\",\"zerolinecolor\":\"white\"},\"zaxis\":{\"backgroundcolor\":\"#E5ECF6\",\"gridcolor\":\"white\",\"gridwidth\":2,\"linecolor\":\"white\",\"showbackground\":true,\"ticks\":\"\",\"zerolinecolor\":\"white\"}},\"shapedefaults\":{\"line\":{\"color\":\"#2a3f5f\"}},\"ternary\":{\"aaxis\":{\"gridcolor\":\"white\",\"linecolor\":\"white\",\"ticks\":\"\"},\"baxis\":{\"gridcolor\":\"white\",\"linecolor\":\"white\",\"ticks\":\"\"},\"bgcolor\":\"#E5ECF6\",\"caxis\":{\"gridcolor\":\"white\",\"linecolor\":\"white\",\"ticks\":\"\"}},\"title\":{\"x\":0.05},\"xaxis\":{\"automargin\":true,\"gridcolor\":\"white\",\"linecolor\":\"white\",\"ticks\":\"\",\"title\":{\"standoff\":15},\"zerolinecolor\":\"white\",\"zerolinewidth\":2},\"yaxis\":{\"automargin\":true,\"gridcolor\":\"white\",\"linecolor\":\"white\",\"ticks\":\"\",\"title\":{\"standoff\":15},\"zerolinecolor\":\"white\",\"zerolinewidth\":2}}},\"legend\":{\"tracegroupgap\":0},\"margin\":{\"t\":50,\"l\":25,\"r\":25,\"b\":25}},                        {\"responsive\": true}                    ).then(function(){\n",
              "                            \n",
              "var gd = document.getElementById('5376ca8e-5f3a-4de6-bc9e-da63c88544b4');\n",
              "var x = new MutationObserver(function (mutations, observer) {{\n",
              "        var display = window.getComputedStyle(gd).display;\n",
              "        if (!display || display === 'none') {{\n",
              "            console.log([gd, 'removed!']);\n",
              "            Plotly.purge(gd);\n",
              "            observer.disconnect();\n",
              "        }}\n",
              "}});\n",
              "\n",
              "// Listen for the removal of the full notebook cells\n",
              "var notebookContainer = gd.closest('#notebook-container');\n",
              "if (notebookContainer) {{\n",
              "    x.observe(notebookContainer, {childList: true});\n",
              "}}\n",
              "\n",
              "// Listen for the clearing of the current output cell\n",
              "var outputEl = gd.closest('.output');\n",
              "if (outputEl) {{\n",
              "    x.observe(outputEl, {childList: true});\n",
              "}}\n",
              "\n",
              "                        })                };                            </script>        </div>\n",
              "</body>\n",
              "</html>"
            ]
          },
          "metadata": {}
        }
      ]
    },
    {
      "cell_type": "code",
      "source": [
        "pip install pygal_maps_world"
      ],
      "metadata": {
        "id": "MF0wgTRUw5QD",
        "colab": {
          "base_uri": "https://localhost:8080/"
        },
        "outputId": "1619ee15-e045-47c1-d92a-08754d8a980b"
      },
      "execution_count": null,
      "outputs": [
        {
          "output_type": "stream",
          "name": "stdout",
          "text": [
            "Looking in indexes: https://pypi.org/simple, https://us-python.pkg.dev/colab-wheels/public/simple/\n",
            "Collecting pygal_maps_world\n",
            "  Downloading pygal_maps_world-1.0.2.tar.gz (270 kB)\n",
            "\u001b[2K     \u001b[90m━━━━━━━━━━━━━━━━━━━━━━━━━━━━━━━━━━━━━━━\u001b[0m \u001b[32m270.8/270.8 KB\u001b[0m \u001b[31m6.7 MB/s\u001b[0m eta \u001b[36m0:00:00\u001b[0m\n",
            "\u001b[?25h  Preparing metadata (setup.py) ... \u001b[?25l\u001b[?25hdone\n",
            "Collecting pygal>=1.9.9\n",
            "  Downloading pygal-3.0.0-py2.py3-none-any.whl (129 kB)\n",
            "\u001b[2K     \u001b[90m━━━━━━━━━━━━━━━━━━━━━━━━━━━━━━━━━━━━━━━\u001b[0m \u001b[32m129.4/129.4 KB\u001b[0m \u001b[31m2.1 MB/s\u001b[0m eta \u001b[36m0:00:00\u001b[0m\n",
            "\u001b[?25hBuilding wheels for collected packages: pygal_maps_world\n",
            "  Building wheel for pygal_maps_world (setup.py) ... \u001b[?25l\u001b[?25hdone\n",
            "  Created wheel for pygal_maps_world: filename=pygal_maps_world-1.0.2-py3-none-any.whl size=278555 sha256=8b567fe81615d4828c57a0de05012e0109e6c6723289b45f161323ff4d14453c\n",
            "  Stored in directory: /root/.cache/pip/wheels/f8/ff/bd/a3cb8647e19834039de7bfd2f9304e06d3314f87c135cb8b1a\n",
            "Successfully built pygal_maps_world\n",
            "Installing collected packages: pygal, pygal_maps_world\n",
            "Successfully installed pygal-3.0.0 pygal_maps_world-1.0.2\n"
          ]
        }
      ]
    },
    {
      "cell_type": "code",
      "source": [
        "import pygal"
      ],
      "metadata": {
        "id": "iqb9ipFCw4xl"
      },
      "execution_count": null,
      "outputs": []
    },
    {
      "cell_type": "code",
      "source": [
        "# create a world map\n",
        "worldmap =  pygal.maps.world()\n",
        "  \n",
        "# set the title of the map\n",
        "worldmap.title = 'Countries'\n",
        "  \n",
        "# adding the countries\n",
        "worldmap.add('Random Data', {\n",
        "        'aq' : 10,\n",
        "        'cd' : 30,\n",
        "        'de' : 40,\n",
        "        'eg' : 50,\n",
        "        'ga' : 45,\n",
        "        'hk' : 23,\n",
        "        'in' : 70,\n",
        "        'jp' : 54,\n",
        "        'nz' : 41,\n",
        "        'kz' : 32,\n",
        "        'us' : 66\n",
        "})"
      ],
      "metadata": {
        "colab": {
          "base_uri": "https://localhost:8080/",
          "height": 235
        },
        "id": "QRAQcEFPDpCV",
        "outputId": "90d45acf-8ee1-447b-92fd-da2f600312bc"
      },
      "execution_count": null,
      "outputs": [
        {
          "output_type": "error",
          "ename": "AttributeError",
          "evalue": "ignored",
          "traceback": [
            "\u001b[0;31m---------------------------------------------------------------------------\u001b[0m",
            "\u001b[0;31mAttributeError\u001b[0m                            Traceback (most recent call last)",
            "\u001b[0;32m<ipython-input-7-fe77a0483785>\u001b[0m in \u001b[0;36m<module>\u001b[0;34m\u001b[0m\n\u001b[1;32m      1\u001b[0m \u001b[0;31m# create a world map\u001b[0m\u001b[0;34m\u001b[0m\u001b[0;34m\u001b[0m\u001b[0m\n\u001b[0;32m----> 2\u001b[0;31m \u001b[0mworldmap\u001b[0m \u001b[0;34m=\u001b[0m  \u001b[0mpygal\u001b[0m\u001b[0;34m.\u001b[0m\u001b[0mmaps\u001b[0m\u001b[0;34m.\u001b[0m\u001b[0mworld\u001b[0m\u001b[0;34m(\u001b[0m\u001b[0;34m)\u001b[0m\u001b[0;34m\u001b[0m\u001b[0;34m\u001b[0m\u001b[0m\n\u001b[0m\u001b[1;32m      3\u001b[0m \u001b[0;34m\u001b[0m\u001b[0m\n\u001b[1;32m      4\u001b[0m \u001b[0;31m# set the title of the map\u001b[0m\u001b[0;34m\u001b[0m\u001b[0;34m\u001b[0m\u001b[0m\n\u001b[1;32m      5\u001b[0m \u001b[0mworldmap\u001b[0m\u001b[0;34m.\u001b[0m\u001b[0mtitle\u001b[0m \u001b[0;34m=\u001b[0m \u001b[0;34m'Countries'\u001b[0m\u001b[0;34m\u001b[0m\u001b[0;34m\u001b[0m\u001b[0m\n",
            "\u001b[0;31mAttributeError\u001b[0m: module 'pygal.maps' has no attribute 'world'"
          ]
        }
      ]
    },
    {
      "cell_type": "code",
      "source": [
        "worldmap =  pygal.maps.world.World(style \n",
        "                                   = custom_style)\n",
        "  \n",
        "# set the title of the map\n",
        "worldmap.title = 'Some Countries Starting from Specific Letters'\n",
        "  \n",
        "# hex code of colours are used\n",
        "# for every .add() called\n",
        "worldmap.add('\"E\" Countries', \n",
        "             ['ec', 'ee', 'eg', 'eh',\n",
        "              'er', 'es','et'])\n",
        "  \n",
        "worldmap.add('\"F\" Countries', \n",
        "             ['fr', 'fi'])\n",
        "  \n",
        "worldmap.add('\"P\" Countries', \n",
        "             ['pa', 'pe', 'pg', 'ph', 'pk', \n",
        "               'pl','pr', 'ps', 'pt', 'py'])\n",
        "  \n",
        "worldmap.add('\"Z\" Countries',\n",
        "             ['zm', 'zw'])\n",
        "  \n",
        "worldmap.add ('\"A\" Countries' , \n",
        "              ['ad','ae', 'af', 'al', 'am', 'ao',\n",
        "               'aq', 'ar', 'at', 'au', 'az'], \n",
        "              color = 'black')"
      ],
      "metadata": {
        "colab": {
          "base_uri": "https://localhost:8080/",
          "height": 235
        },
        "id": "2YCrv6krDYu-",
        "outputId": "8bbfdf99-6a09-4fa6-9daf-7bb133d84ce4"
      },
      "execution_count": null,
      "outputs": [
        {
          "output_type": "error",
          "ename": "AttributeError",
          "evalue": "ignored",
          "traceback": [
            "\u001b[0;31m---------------------------------------------------------------------------\u001b[0m",
            "\u001b[0;31mAttributeError\u001b[0m                            Traceback (most recent call last)",
            "\u001b[0;32m<ipython-input-3-e2841fd7634f>\u001b[0m in \u001b[0;36m<module>\u001b[0;34m\u001b[0m\n\u001b[0;32m----> 1\u001b[0;31m worldmap =  pygal.maps.world.World(style \n\u001b[0m\u001b[1;32m      2\u001b[0m                                    = custom_style)\n\u001b[1;32m      3\u001b[0m \u001b[0;34m\u001b[0m\u001b[0m\n\u001b[1;32m      4\u001b[0m \u001b[0;31m# set the title of the map\u001b[0m\u001b[0;34m\u001b[0m\u001b[0;34m\u001b[0m\u001b[0m\n\u001b[1;32m      5\u001b[0m \u001b[0mworldmap\u001b[0m\u001b[0;34m.\u001b[0m\u001b[0mtitle\u001b[0m \u001b[0;34m=\u001b[0m \u001b[0;34m'Some Countries Starting from Specific Letters'\u001b[0m\u001b[0;34m\u001b[0m\u001b[0;34m\u001b[0m\u001b[0m\n",
            "\u001b[0;31mAttributeError\u001b[0m: module 'pygal.maps' has no attribute 'world'"
          ]
        }
      ]
    },
    {
      "cell_type": "code",
      "source": [],
      "metadata": {
        "id": "B5B6EWJ_DYsP"
      },
      "execution_count": null,
      "outputs": []
    },
    {
      "cell_type": "code",
      "source": [],
      "metadata": {
        "id": "bQlsda1CDYpn"
      },
      "execution_count": null,
      "outputs": []
    },
    {
      "cell_type": "code",
      "source": [],
      "metadata": {
        "id": "pgBlYViwDYm_"
      },
      "execution_count": null,
      "outputs": []
    },
    {
      "cell_type": "code",
      "source": [],
      "metadata": {
        "id": "M2WmlbyADYkX"
      },
      "execution_count": null,
      "outputs": []
    },
    {
      "cell_type": "code",
      "source": [],
      "metadata": {
        "id": "V59sq_55DYhX"
      },
      "execution_count": null,
      "outputs": []
    },
    {
      "cell_type": "code",
      "execution_count": null,
      "metadata": {
        "id": "yZfHUgyXvak6"
      },
      "outputs": [],
      "source": [
        "sup"
      ]
    },
    {
      "cell_type": "code",
      "execution_count": null,
      "metadata": {
        "id": "t1QVakN5IO4r"
      },
      "outputs": [],
      "source": [
        "weight.shape"
      ]
    },
    {
      "cell_type": "code",
      "execution_count": null,
      "metadata": {
        "id": "e70ERXdapvW3"
      },
      "outputs": [],
      "source": [
        "mydict = dict(zip(a,wts))\n",
        "mydict['Australia']"
      ]
    },
    {
      "cell_type": "code",
      "execution_count": null,
      "metadata": {
        "id": "7Pn6yVsSk9oE"
      },
      "outputs": [],
      "source": [
        "###### Compensation Degree\n",
        "def compdegree(l1,l2):\n",
        "  a = len(l1)-1\n",
        "  s = 0\n",
        "  for i in range(a-1):\n",
        "    f = abs((l1[i+1]-l1[i]) + (l2[i+1] - l2[i]))\n",
        "    g = max(l1[i],l2[i+1]) + max(l2[i+1],l2[i])\n",
        "    s += (f/g)\n",
        "  return s/a"
      ]
    },
    {
      "cell_type": "code",
      "execution_count": null,
      "metadata": {
        "id": "U5kibNYKnnQ2"
      },
      "outputs": [],
      "source": [
        "def sizediff(m1,m2):\n",
        "  a = len(m1)\n",
        "  s = 0\n",
        "  for i in range(a):\n",
        "    s+= (abs(m1[i]-m2[i]))/(max(m1[i],m2[i]))\n",
        "  return s/a"
      ]
    },
    {
      "cell_type": "code",
      "execution_count": null,
      "metadata": {
        "id": "bL5oM1_bIDjl"
      },
      "outputs": [],
      "source": [
        "len(a)"
      ]
    },
    {
      "cell_type": "code",
      "execution_count": null,
      "metadata": {
        "id": "vcM2cX1CoVOY"
      },
      "outputs": [],
      "source": [
        "def costfunc(x,y):\n",
        "  return 0.5*(compdegree(x,y)+sizediff(x,y))"
      ]
    },
    {
      "cell_type": "code",
      "execution_count": null,
      "metadata": {
        "id": "1bFoTluppUUi"
      },
      "outputs": [],
      "source": [
        "v = []\n",
        "c = []\n",
        "e = []\n",
        "for i in range(len(a)):\n",
        "  for j in range(i+1):\n",
        "    c.append([a[i],a[j]])\n",
        "    v.append(costfunc(mydict[a[i]],mydict[a[j]]))\n",
        "    e.append([mydict[a[i]],mydict[a[j]]])\n",
        "cf = dict(zip(v,c))\n",
        "merge = dict(zip(v,e))\n"
      ]
    },
    {
      "cell_type": "code",
      "execution_count": null,
      "metadata": {
        "id": "NzPYQG9Yqfad"
      },
      "outputs": [],
      "source": [
        "len(cf)"
      ]
    },
    {
      "cell_type": "code",
      "execution_count": null,
      "metadata": {
        "id": "91XRQhYm1E-h"
      },
      "outputs": [],
      "source": [
        "myKeys = list(cf.keys())\n",
        "myKeys.sort()\n",
        "sorted_dict = {i: cf[i] for i in myKeys}"
      ]
    },
    {
      "cell_type": "code",
      "execution_count": null,
      "metadata": {
        "id": "imsC0_EAvEsh"
      },
      "outputs": [],
      "source": [
        "myKeys = list(merge.keys())\n",
        "myKeys.sort()\n",
        "sorted_dict_1 = {i: merge[i] for i in myKeys}"
      ]
    },
    {
      "cell_type": "code",
      "execution_count": null,
      "metadata": {
        "id": "LTQQAKOJK1N_"
      },
      "outputs": [],
      "source": [
        "val = list(sorted_dict_1.values())\n",
        "for i in range(len(val)):\n",
        "  "
      ]
    }
  ],
  "metadata": {
    "colab": {
      "provenance": []
    },
    "kernelspec": {
      "display_name": "Python 3",
      "name": "python3"
    },
    "language_info": {
      "name": "python"
    }
  },
  "nbformat": 4,
  "nbformat_minor": 0
}