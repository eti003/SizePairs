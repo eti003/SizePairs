{
 "cells": [
  {
   "cell_type": "code",
   "execution_count": null,
   "metadata": {
    "id": "25pVJ7c_StBo"
   },
   "outputs": [],
   "source": [
    "import pandas as pd"
   ]
  },
  {
   "cell_type": "code",
   "execution_count": null,
   "metadata": {
    "id": "KVOruzj4YoBP"
   },
   "outputs": [],
   "source": [
    "\n",
    "net = pd.read_csv('https://raw.githubusercontent.com/Ideas-Laboratory/SizePairs/main/Datasets/maternalDeaths.data')"
   ]
  },
  {
   "cell_type": "code",
   "execution_count": null,
   "metadata": {
    "colab": {
     "base_uri": "https://localhost:8080/"
    },
    "id": "RCNGoWN09s8W",
    "outputId": "c080ffaa-8ddc-4894-ed0c-bb1143a8809e"
   },
   "outputs": [
    {
     "data": {
      "text/plain": [
       "28"
      ]
     },
     "execution_count": 3,
     "metadata": {},
     "output_type": "execute_result"
    }
   ],
   "source": [
    "x = list(net.columns)\n",
    "len(x)"
   ]
  },
  {
   "cell_type": "code",
   "execution_count": null,
   "metadata": {
    "id": "K2TjjpevaN4j"
   },
   "outputs": [],
   "source": [
    "net.head()\n",
    "len(net)\n",
    "headers = []\n",
    "for i in range(1,27):\n",
    "  headers.append(i)\n"
   ]
  },
  {
   "cell_type": "code",
   "execution_count": null,
   "metadata": {
    "id": "1kpq0CJv-EZx"
   },
   "outputs": [],
   "source": [
    "len(headers)\n",
    "headers.insert(0,'Country')\n",
    "headers.insert(1,'Region')"
   ]
  },
  {
   "cell_type": "code",
   "execution_count": null,
   "metadata": {
    "id": "Ngd2gXvZ-Akr"
   },
   "outputs": [],
   "source": [
    "net.columns = headers\n"
   ]
  },
  {
   "cell_type": "code",
   "execution_count": null,
   "metadata": {
    "id": "6Quuzo8K2cjE"
   },
   "outputs": [],
   "source": [
    "z = headers[2:]"
   ]
  },
  {
   "cell_type": "code",
   "execution_count": null,
   "metadata": {
    "colab": {
     "base_uri": "https://localhost:8080/"
    },
    "id": "UzA9pVd82qaq",
    "outputId": "1421ea57-4596-4a25-9e7a-bf708b19984d"
   },
   "outputs": [
    {
     "name": "stderr",
     "output_type": "stream",
     "text": [
      "<ipython-input-8-fba0175faeb4>:3: SettingWithCopyWarning: \n",
      "A value is trying to be set on a copy of a slice from a DataFrame\n",
      "\n",
      "See the caveats in the documentation: https://pandas.pydata.org/pandas-docs/stable/user_guide/indexing.html#returning-a-view-versus-a-copy\n",
      "  net[z[i]][j] = int(net[z[i]][j])\n"
     ]
    }
   ],
   "source": [
    "for i in range(len(z)):\n",
    "  for j in range(len(net)):\n",
    "    net[z[i]][j] = int(net[z[i]][j])"
   ]
  },
  {
   "cell_type": "code",
   "execution_count": null,
   "metadata": {
    "id": "DuO1J5dMBCFN"
   },
   "outputs": [],
   "source": [
    "for i in z:\n",
    "  net[i]=net[i]/net[i].abs().max()\n"
   ]
  },
  {
   "cell_type": "code",
   "execution_count": null,
   "metadata": {
    "colab": {
     "base_uri": "https://localhost:8080/",
     "height": 574
    },
    "id": "AYLxO7GPGZeF",
    "outputId": "edddd334-556a-4618-df07-154565e82182"
   },
   "outputs": [
    {
     "data": {
      "text/html": [
       "\n",
       "  <div id=\"df-fa8acd20-9542-4313-ad91-9d80b4807258\">\n",
       "    <div class=\"colab-df-container\">\n",
       "      <div>\n",
       "<style scoped>\n",
       "    .dataframe tbody tr th:only-of-type {\n",
       "        vertical-align: middle;\n",
       "    }\n",
       "\n",
       "    .dataframe tbody tr th {\n",
       "        vertical-align: top;\n",
       "    }\n",
       "\n",
       "    .dataframe thead th {\n",
       "        text-align: right;\n",
       "    }\n",
       "</style>\n",
       "<table border=\"1\" class=\"dataframe\">\n",
       "  <thead>\n",
       "    <tr style=\"text-align: right;\">\n",
       "      <th></th>\n",
       "      <th>Country</th>\n",
       "      <th>Region</th>\n",
       "      <th>1</th>\n",
       "      <th>2</th>\n",
       "      <th>3</th>\n",
       "      <th>4</th>\n",
       "      <th>5</th>\n",
       "      <th>6</th>\n",
       "      <th>7</th>\n",
       "      <th>8</th>\n",
       "      <th>...</th>\n",
       "      <th>17</th>\n",
       "      <th>18</th>\n",
       "      <th>19</th>\n",
       "      <th>20</th>\n",
       "      <th>21</th>\n",
       "      <th>22</th>\n",
       "      <th>23</th>\n",
       "      <th>24</th>\n",
       "      <th>25</th>\n",
       "      <th>26</th>\n",
       "    </tr>\n",
       "  </thead>\n",
       "  <tbody>\n",
       "    <tr>\n",
       "      <th>0</th>\n",
       "      <td>root/EastAsia&amp;Pacific/Australia</td>\n",
       "      <td>root/EastAsia&amp;Pacific</td>\n",
       "      <td>0.000094</td>\n",
       "      <td>0.000094</td>\n",
       "      <td>0.000093</td>\n",
       "      <td>0.000091</td>\n",
       "      <td>0.000091</td>\n",
       "      <td>0.000090</td>\n",
       "      <td>0.000090</td>\n",
       "      <td>0.000089</td>\n",
       "      <td>...</td>\n",
       "      <td>0.000087</td>\n",
       "      <td>0.000092</td>\n",
       "      <td>0.000090</td>\n",
       "      <td>0.000094</td>\n",
       "      <td>0.000094</td>\n",
       "      <td>0.000096</td>\n",
       "      <td>0.000097</td>\n",
       "      <td>0.000098</td>\n",
       "      <td>0.000093</td>\n",
       "      <td>0.000095</td>\n",
       "    </tr>\n",
       "    <tr>\n",
       "      <th>1</th>\n",
       "      <td>root/EastAsia&amp;Pacific/BruneiDarussalam</td>\n",
       "      <td>root/EastAsia&amp;Pacific</td>\n",
       "      <td>0.000013</td>\n",
       "      <td>0.000013</td>\n",
       "      <td>0.000013</td>\n",
       "      <td>0.000013</td>\n",
       "      <td>0.000013</td>\n",
       "      <td>0.000013</td>\n",
       "      <td>0.000013</td>\n",
       "      <td>0.000013</td>\n",
       "      <td>...</td>\n",
       "      <td>0.000009</td>\n",
       "      <td>0.000009</td>\n",
       "      <td>0.000010</td>\n",
       "      <td>0.000009</td>\n",
       "      <td>0.000009</td>\n",
       "      <td>0.000010</td>\n",
       "      <td>0.000010</td>\n",
       "      <td>0.000010</td>\n",
       "      <td>0.000010</td>\n",
       "      <td>0.000010</td>\n",
       "    </tr>\n",
       "    <tr>\n",
       "      <th>2</th>\n",
       "      <td>root/EastAsia&amp;Pacific/Cambodia</td>\n",
       "      <td>root/EastAsia&amp;Pacific</td>\n",
       "      <td>0.017481</td>\n",
       "      <td>0.016100</td>\n",
       "      <td>0.014994</td>\n",
       "      <td>0.013435</td>\n",
       "      <td>0.012593</td>\n",
       "      <td>0.011600</td>\n",
       "      <td>0.010243</td>\n",
       "      <td>0.009340</td>\n",
       "      <td>...</td>\n",
       "      <td>0.004591</td>\n",
       "      <td>0.004230</td>\n",
       "      <td>0.004086</td>\n",
       "      <td>0.003703</td>\n",
       "      <td>0.003487</td>\n",
       "      <td>0.003324</td>\n",
       "      <td>0.003197</td>\n",
       "      <td>0.003123</td>\n",
       "      <td>0.003042</td>\n",
       "      <td>0.002946</td>\n",
       "    </tr>\n",
       "    <tr>\n",
       "      <th>3</th>\n",
       "      <td>root/EastAsia&amp;Pacific/China</td>\n",
       "      <td>root/EastAsia&amp;Pacific</td>\n",
       "      <td>0.112058</td>\n",
       "      <td>0.102860</td>\n",
       "      <td>0.092613</td>\n",
       "      <td>0.078008</td>\n",
       "      <td>0.069477</td>\n",
       "      <td>0.060146</td>\n",
       "      <td>0.051216</td>\n",
       "      <td>0.046700</td>\n",
       "      <td>...</td>\n",
       "      <td>0.033058</td>\n",
       "      <td>0.031268</td>\n",
       "      <td>0.030882</td>\n",
       "      <td>0.029059</td>\n",
       "      <td>0.027328</td>\n",
       "      <td>0.026492</td>\n",
       "      <td>0.025188</td>\n",
       "      <td>0.023914</td>\n",
       "      <td>0.022570</td>\n",
       "      <td>0.021967</td>\n",
       "    </tr>\n",
       "    <tr>\n",
       "      <th>4</th>\n",
       "      <td>root/EastAsia&amp;Pacific/Fiji</td>\n",
       "      <td>root/EastAsia&amp;Pacific</td>\n",
       "      <td>0.000063</td>\n",
       "      <td>0.000058</td>\n",
       "      <td>0.000057</td>\n",
       "      <td>0.000052</td>\n",
       "      <td>0.000048</td>\n",
       "      <td>0.000047</td>\n",
       "      <td>0.000043</td>\n",
       "      <td>0.000042</td>\n",
       "      <td>...</td>\n",
       "      <td>0.000032</td>\n",
       "      <td>0.000032</td>\n",
       "      <td>0.000033</td>\n",
       "      <td>0.000033</td>\n",
       "      <td>0.000028</td>\n",
       "      <td>0.000029</td>\n",
       "      <td>0.000029</td>\n",
       "      <td>0.000029</td>\n",
       "      <td>0.000029</td>\n",
       "      <td>0.000025</td>\n",
       "    </tr>\n",
       "    <tr>\n",
       "      <th>...</th>\n",
       "      <td>...</td>\n",
       "      <td>...</td>\n",
       "      <td>...</td>\n",
       "      <td>...</td>\n",
       "      <td>...</td>\n",
       "      <td>...</td>\n",
       "      <td>...</td>\n",
       "      <td>...</td>\n",
       "      <td>...</td>\n",
       "      <td>...</td>\n",
       "      <td>...</td>\n",
       "      <td>...</td>\n",
       "      <td>...</td>\n",
       "      <td>...</td>\n",
       "      <td>...</td>\n",
       "      <td>...</td>\n",
       "      <td>...</td>\n",
       "      <td>...</td>\n",
       "      <td>...</td>\n",
       "      <td>...</td>\n",
       "      <td>...</td>\n",
       "    </tr>\n",
       "    <tr>\n",
       "      <th>183</th>\n",
       "      <td>root/Sub-SaharanAfrica/Tanzania</td>\n",
       "      <td>root/Sub-SaharanAfrica</td>\n",
       "      <td>0.049306</td>\n",
       "      <td>0.049194</td>\n",
       "      <td>0.052921</td>\n",
       "      <td>0.052005</td>\n",
       "      <td>0.052108</td>\n",
       "      <td>0.051554</td>\n",
       "      <td>0.051216</td>\n",
       "      <td>0.050945</td>\n",
       "      <td>...</td>\n",
       "      <td>0.050505</td>\n",
       "      <td>0.050581</td>\n",
       "      <td>0.047510</td>\n",
       "      <td>0.046870</td>\n",
       "      <td>0.045703</td>\n",
       "      <td>0.044313</td>\n",
       "      <td>0.044079</td>\n",
       "      <td>0.042460</td>\n",
       "      <td>0.041706</td>\n",
       "      <td>0.040938</td>\n",
       "    </tr>\n",
       "    <tr>\n",
       "      <th>184</th>\n",
       "      <td>root/Sub-SaharanAfrica/Togo</td>\n",
       "      <td>root/Sub-SaharanAfrica</td>\n",
       "      <td>0.004079</td>\n",
       "      <td>0.004159</td>\n",
       "      <td>0.004146</td>\n",
       "      <td>0.004117</td>\n",
       "      <td>0.004212</td>\n",
       "      <td>0.004210</td>\n",
       "      <td>0.004183</td>\n",
       "      <td>0.004161</td>\n",
       "      <td>...</td>\n",
       "      <td>0.004408</td>\n",
       "      <td>0.004368</td>\n",
       "      <td>0.004466</td>\n",
       "      <td>0.004406</td>\n",
       "      <td>0.004476</td>\n",
       "      <td>0.004672</td>\n",
       "      <td>0.004698</td>\n",
       "      <td>0.004734</td>\n",
       "      <td>0.004710</td>\n",
       "      <td>0.004693</td>\n",
       "    </tr>\n",
       "    <tr>\n",
       "      <th>185</th>\n",
       "      <td>root/Sub-SaharanAfrica/Uganda</td>\n",
       "      <td>root/Sub-SaharanAfrica</td>\n",
       "      <td>0.026446</td>\n",
       "      <td>0.027728</td>\n",
       "      <td>0.028225</td>\n",
       "      <td>0.028603</td>\n",
       "      <td>0.029528</td>\n",
       "      <td>0.029644</td>\n",
       "      <td>0.029876</td>\n",
       "      <td>0.030142</td>\n",
       "      <td>...</td>\n",
       "      <td>0.029844</td>\n",
       "      <td>0.029889</td>\n",
       "      <td>0.030407</td>\n",
       "      <td>0.029528</td>\n",
       "      <td>0.029683</td>\n",
       "      <td>0.029863</td>\n",
       "      <td>0.030032</td>\n",
       "      <td>0.028794</td>\n",
       "      <td>0.028458</td>\n",
       "      <td>0.028457</td>\n",
       "    </tr>\n",
       "    <tr>\n",
       "      <th>186</th>\n",
       "      <td>root/Sub-SaharanAfrica/Zambia</td>\n",
       "      <td>root/Sub-SaharanAfrica</td>\n",
       "      <td>0.009861</td>\n",
       "      <td>0.009839</td>\n",
       "      <td>0.010143</td>\n",
       "      <td>0.010401</td>\n",
       "      <td>0.010422</td>\n",
       "      <td>0.010740</td>\n",
       "      <td>0.010670</td>\n",
       "      <td>0.011038</td>\n",
       "      <td>...</td>\n",
       "      <td>0.008264</td>\n",
       "      <td>0.007817</td>\n",
       "      <td>0.007602</td>\n",
       "      <td>0.007499</td>\n",
       "      <td>0.007067</td>\n",
       "      <td>0.007225</td>\n",
       "      <td>0.007266</td>\n",
       "      <td>0.007321</td>\n",
       "      <td>0.007360</td>\n",
       "      <td>0.006989</td>\n",
       "    </tr>\n",
       "    <tr>\n",
       "      <th>187</th>\n",
       "      <td>root/Sub-SaharanAfrica/Zimbabwe</td>\n",
       "      <td>root/Sub-SaharanAfrica</td>\n",
       "      <td>0.007620</td>\n",
       "      <td>0.007603</td>\n",
       "      <td>0.007056</td>\n",
       "      <td>0.006934</td>\n",
       "      <td>0.007382</td>\n",
       "      <td>0.007733</td>\n",
       "      <td>0.008109</td>\n",
       "      <td>0.008491</td>\n",
       "      <td>...</td>\n",
       "      <td>0.012856</td>\n",
       "      <td>0.012415</td>\n",
       "      <td>0.012353</td>\n",
       "      <td>0.011249</td>\n",
       "      <td>0.010837</td>\n",
       "      <td>0.010115</td>\n",
       "      <td>0.009688</td>\n",
       "      <td>0.009761</td>\n",
       "      <td>0.010795</td>\n",
       "      <td>0.011982</td>\n",
       "    </tr>\n",
       "  </tbody>\n",
       "</table>\n",
       "<p>188 rows × 28 columns</p>\n",
       "</div>\n",
       "      <button class=\"colab-df-convert\" onclick=\"convertToInteractive('df-fa8acd20-9542-4313-ad91-9d80b4807258')\"\n",
       "              title=\"Convert this dataframe to an interactive table.\"\n",
       "              style=\"display:none;\">\n",
       "        \n",
       "  <svg xmlns=\"http://www.w3.org/2000/svg\" height=\"24px\"viewBox=\"0 0 24 24\"\n",
       "       width=\"24px\">\n",
       "    <path d=\"M0 0h24v24H0V0z\" fill=\"none\"/>\n",
       "    <path d=\"M18.56 5.44l.94 2.06.94-2.06 2.06-.94-2.06-.94-.94-2.06-.94 2.06-2.06.94zm-11 1L8.5 8.5l.94-2.06 2.06-.94-2.06-.94L8.5 2.5l-.94 2.06-2.06.94zm10 10l.94 2.06.94-2.06 2.06-.94-2.06-.94-.94-2.06-.94 2.06-2.06.94z\"/><path d=\"M17.41 7.96l-1.37-1.37c-.4-.4-.92-.59-1.43-.59-.52 0-1.04.2-1.43.59L10.3 9.45l-7.72 7.72c-.78.78-.78 2.05 0 2.83L4 21.41c.39.39.9.59 1.41.59.51 0 1.02-.2 1.41-.59l7.78-7.78 2.81-2.81c.8-.78.8-2.07 0-2.86zM5.41 20L4 18.59l7.72-7.72 1.47 1.35L5.41 20z\"/>\n",
       "  </svg>\n",
       "      </button>\n",
       "      \n",
       "  <style>\n",
       "    .colab-df-container {\n",
       "      display:flex;\n",
       "      flex-wrap:wrap;\n",
       "      gap: 12px;\n",
       "    }\n",
       "\n",
       "    .colab-df-convert {\n",
       "      background-color: #E8F0FE;\n",
       "      border: none;\n",
       "      border-radius: 50%;\n",
       "      cursor: pointer;\n",
       "      display: none;\n",
       "      fill: #1967D2;\n",
       "      height: 32px;\n",
       "      padding: 0 0 0 0;\n",
       "      width: 32px;\n",
       "    }\n",
       "\n",
       "    .colab-df-convert:hover {\n",
       "      background-color: #E2EBFA;\n",
       "      box-shadow: 0px 1px 2px rgba(60, 64, 67, 0.3), 0px 1px 3px 1px rgba(60, 64, 67, 0.15);\n",
       "      fill: #174EA6;\n",
       "    }\n",
       "\n",
       "    [theme=dark] .colab-df-convert {\n",
       "      background-color: #3B4455;\n",
       "      fill: #D2E3FC;\n",
       "    }\n",
       "\n",
       "    [theme=dark] .colab-df-convert:hover {\n",
       "      background-color: #434B5C;\n",
       "      box-shadow: 0px 1px 3px 1px rgba(0, 0, 0, 0.15);\n",
       "      filter: drop-shadow(0px 1px 2px rgba(0, 0, 0, 0.3));\n",
       "      fill: #FFFFFF;\n",
       "    }\n",
       "  </style>\n",
       "\n",
       "      <script>\n",
       "        const buttonEl =\n",
       "          document.querySelector('#df-fa8acd20-9542-4313-ad91-9d80b4807258 button.colab-df-convert');\n",
       "        buttonEl.style.display =\n",
       "          google.colab.kernel.accessAllowed ? 'block' : 'none';\n",
       "\n",
       "        async function convertToInteractive(key) {\n",
       "          const element = document.querySelector('#df-fa8acd20-9542-4313-ad91-9d80b4807258');\n",
       "          const dataTable =\n",
       "            await google.colab.kernel.invokeFunction('convertToInteractive',\n",
       "                                                     [key], {});\n",
       "          if (!dataTable) return;\n",
       "\n",
       "          const docLinkHtml = 'Like what you see? Visit the ' +\n",
       "            '<a target=\"_blank\" href=https://colab.research.google.com/notebooks/data_table.ipynb>data table notebook</a>'\n",
       "            + ' to learn more about interactive tables.';\n",
       "          element.innerHTML = '';\n",
       "          dataTable['output_type'] = 'display_data';\n",
       "          await google.colab.output.renderOutput(dataTable, element);\n",
       "          const docLink = document.createElement('div');\n",
       "          docLink.innerHTML = docLinkHtml;\n",
       "          element.appendChild(docLink);\n",
       "        }\n",
       "      </script>\n",
       "    </div>\n",
       "  </div>\n",
       "  "
      ],
      "text/plain": [
       "                                    Country                  Region         1  \\\n",
       "0           root/EastAsia&Pacific/Australia   root/EastAsia&Pacific  0.000094   \n",
       "1    root/EastAsia&Pacific/BruneiDarussalam   root/EastAsia&Pacific  0.000013   \n",
       "2            root/EastAsia&Pacific/Cambodia   root/EastAsia&Pacific  0.017481   \n",
       "3               root/EastAsia&Pacific/China   root/EastAsia&Pacific  0.112058   \n",
       "4                root/EastAsia&Pacific/Fiji   root/EastAsia&Pacific  0.000063   \n",
       "..                                      ...                     ...       ...   \n",
       "183         root/Sub-SaharanAfrica/Tanzania  root/Sub-SaharanAfrica  0.049306   \n",
       "184             root/Sub-SaharanAfrica/Togo  root/Sub-SaharanAfrica  0.004079   \n",
       "185           root/Sub-SaharanAfrica/Uganda  root/Sub-SaharanAfrica  0.026446   \n",
       "186           root/Sub-SaharanAfrica/Zambia  root/Sub-SaharanAfrica  0.009861   \n",
       "187         root/Sub-SaharanAfrica/Zimbabwe  root/Sub-SaharanAfrica  0.007620   \n",
       "\n",
       "            2         3         4         5         6         7         8  \\\n",
       "0    0.000094  0.000093  0.000091  0.000091  0.000090  0.000090  0.000089   \n",
       "1    0.000013  0.000013  0.000013  0.000013  0.000013  0.000013  0.000013   \n",
       "2    0.016100  0.014994  0.013435  0.012593  0.011600  0.010243  0.009340   \n",
       "3    0.102860  0.092613  0.078008  0.069477  0.060146  0.051216  0.046700   \n",
       "4    0.000058  0.000057  0.000052  0.000048  0.000047  0.000043  0.000042   \n",
       "..        ...       ...       ...       ...       ...       ...       ...   \n",
       "183  0.049194  0.052921  0.052005  0.052108  0.051554  0.051216  0.050945   \n",
       "184  0.004159  0.004146  0.004117  0.004212  0.004210  0.004183  0.004161   \n",
       "185  0.027728  0.028225  0.028603  0.029528  0.029644  0.029876  0.030142   \n",
       "186  0.009839  0.010143  0.010401  0.010422  0.010740  0.010670  0.011038   \n",
       "187  0.007603  0.007056  0.006934  0.007382  0.007733  0.008109  0.008491   \n",
       "\n",
       "     ...        17        18        19        20        21        22  \\\n",
       "0    ...  0.000087  0.000092  0.000090  0.000094  0.000094  0.000096   \n",
       "1    ...  0.000009  0.000009  0.000010  0.000009  0.000009  0.000010   \n",
       "2    ...  0.004591  0.004230  0.004086  0.003703  0.003487  0.003324   \n",
       "3    ...  0.033058  0.031268  0.030882  0.029059  0.027328  0.026492   \n",
       "4    ...  0.000032  0.000032  0.000033  0.000033  0.000028  0.000029   \n",
       "..   ...       ...       ...       ...       ...       ...       ...   \n",
       "183  ...  0.050505  0.050581  0.047510  0.046870  0.045703  0.044313   \n",
       "184  ...  0.004408  0.004368  0.004466  0.004406  0.004476  0.004672   \n",
       "185  ...  0.029844  0.029889  0.030407  0.029528  0.029683  0.029863   \n",
       "186  ...  0.008264  0.007817  0.007602  0.007499  0.007067  0.007225   \n",
       "187  ...  0.012856  0.012415  0.012353  0.011249  0.010837  0.010115   \n",
       "\n",
       "           23        24        25        26  \n",
       "0    0.000097  0.000098  0.000093  0.000095  \n",
       "1    0.000010  0.000010  0.000010  0.000010  \n",
       "2    0.003197  0.003123  0.003042  0.002946  \n",
       "3    0.025188  0.023914  0.022570  0.021967  \n",
       "4    0.000029  0.000029  0.000029  0.000025  \n",
       "..        ...       ...       ...       ...  \n",
       "183  0.044079  0.042460  0.041706  0.040938  \n",
       "184  0.004698  0.004734  0.004710  0.004693  \n",
       "185  0.030032  0.028794  0.028458  0.028457  \n",
       "186  0.007266  0.007321  0.007360  0.006989  \n",
       "187  0.009688  0.009761  0.010795  0.011982  \n",
       "\n",
       "[188 rows x 28 columns]"
      ]
     },
     "execution_count": 10,
     "metadata": {},
     "output_type": "execute_result"
    }
   ],
   "source": [
    "net"
   ]
  },
  {
   "cell_type": "code",
   "execution_count": null,
   "metadata": {
    "id": "tjUFUoMjbosH"
   },
   "outputs": [],
   "source": [
    "a = list(net['Country'])\n",
    "a = [a[i][::-1][:a[i][::-1].index('/')] for i in range(len(a))]\n",
    "a = [i[::-1] for i in a]\n",
    "\n"
   ]
  },
  {
   "cell_type": "code",
   "execution_count": null,
   "metadata": {
    "colab": {
     "base_uri": "https://localhost:8080/"
    },
    "id": "ny1oPBCHB5fF",
    "outputId": "e60c3718-a07b-4b44-da85-8b3e26e540ff"
   },
   "outputs": [
    {
     "data": {
      "text/plain": [
       "[1,\n",
       " 2,\n",
       " 3,\n",
       " 4,\n",
       " 5,\n",
       " 6,\n",
       " 7,\n",
       " 8,\n",
       " 9,\n",
       " 10,\n",
       " 11,\n",
       " 12,\n",
       " 13,\n",
       " 14,\n",
       " 15,\n",
       " 16,\n",
       " 17,\n",
       " 18,\n",
       " 19,\n",
       " 20,\n",
       " 21,\n",
       " 22,\n",
       " 23,\n",
       " 24,\n",
       " 25,\n",
       " 26]"
      ]
     },
     "execution_count": 12,
     "metadata": {},
     "output_type": "execute_result"
    }
   ],
   "source": [
    "z"
   ]
  },
  {
   "cell_type": "code",
   "execution_count": null,
   "metadata": {
    "id": "gRFKHHJmBM2T"
   },
   "outputs": [],
   "source": [
    "weights = []\n",
    "for i in range(1,len(z)+1):\n",
    "  b = []\n",
    "  for j in range(len(net)):\n",
    "    b.append(net[i][j])\n",
    "  weights.append(b)\n"
   ]
  },
  {
   "cell_type": "code",
   "execution_count": null,
   "metadata": {
    "colab": {
     "base_uri": "https://localhost:8080/"
    },
    "id": "JXTPdPbDB_Q0",
    "outputId": "75c2f030-d86c-482d-a4de-7f6b94c38790"
   },
   "outputs": [
    {
     "data": {
      "text/plain": [
       "26"
      ]
     },
     "execution_count": 14,
     "metadata": {},
     "output_type": "execute_result"
    }
   ],
   "source": [
    "len(weights)"
   ]
  },
  {
   "cell_type": "code",
   "execution_count": null,
   "metadata": {
    "id": "3JAK1659s2cC"
   },
   "outputs": [],
   "source": [
    "\n",
    "import numpy as np"
   ]
  },
  {
   "cell_type": "code",
   "execution_count": null,
   "metadata": {
    "colab": {
     "base_uri": "https://localhost:8080/"
    },
    "id": "kNooqRyEk2MC",
    "outputId": "c50c9139-a17b-4e84-ff39-bc2a16f0c0e5"
   },
   "outputs": [
    {
     "data": {
      "text/plain": [
       "26"
      ]
     },
     "execution_count": 16,
     "metadata": {},
     "output_type": "execute_result"
    }
   ],
   "source": [
    "\n",
    "W = np.array(weights)\n",
    "v = W.transpose()\n",
    "\n",
    "len(W)"
   ]
  },
  {
   "cell_type": "code",
   "execution_count": null,
   "metadata": {
    "colab": {
     "base_uri": "https://localhost:8080/"
    },
    "id": "_XfbKIwy-BCH",
    "outputId": "ae31ab13-4253-4167-9dde-18dc514b8e96"
   },
   "outputs": [
    {
     "name": "stderr",
     "output_type": "stream",
     "text": [
      "<ipython-input-17-3ce59aca5503>:3: RuntimeWarning: invalid value encountered in double_scalars\n",
      "  j = (j-np.mean(i))/np.std(i)\n"
     ]
    },
    {
     "data": {
      "text/plain": [
       "array([[9.41290375e-05, 9.39160301e-05, 9.26126015e-05, ...,\n",
       "        9.76081132e-05, 9.32254535e-05, 9.48567663e-05],\n",
       "       [1.34470054e-05, 1.34165757e-05, 1.32303716e-05, ...,\n",
       "        9.76081132e-06, 9.81320563e-06, 9.98492277e-06],\n",
       "       [1.74811070e-02, 1.60998909e-02, 1.49944212e-02, ...,\n",
       "        3.12345962e-03, 3.04209375e-03, 2.94555222e-03],\n",
       "       ...,\n",
       "       [2.64457772e-02, 2.77275898e-02, 2.82247928e-02, ...,\n",
       "        2.87943934e-02, 2.84582963e-02, 2.84570299e-02],\n",
       "       [9.86113726e-03, 9.83882220e-03, 1.01432849e-02, ...,\n",
       "        7.32060849e-03, 7.35990422e-03, 6.98944594e-03],\n",
       "       [7.61996970e-03, 7.60272625e-03, 7.05619821e-03, ...,\n",
       "        9.76081132e-03, 1.07945262e-02, 1.19819073e-02]])"
      ]
     },
     "execution_count": 17,
     "metadata": {},
     "output_type": "execute_result"
    }
   ],
   "source": [
    "for i in v:\n",
    "  for j in i:\n",
    "    j = (j-np.mean(i))/np.std(i)\n",
    "v"
   ]
  },
  {
   "cell_type": "code",
   "execution_count": null,
   "metadata": {
    "colab": {
     "base_uri": "https://localhost:8080/"
    },
    "id": "gIyF9Edy-Yb1",
    "outputId": "5514d2c4-3d39-4d64-8ad6-46fd81251f22"
   },
   "outputs": [
    {
     "data": {
      "text/plain": [
       "[]"
      ]
     },
     "execution_count": 18,
     "metadata": {},
     "output_type": "execute_result"
    }
   ],
   "source": [
    "def supernodes(v):\n",
    "  r = []\n",
    "  for i in v:\n",
    "    r.append(np.median(i))\n",
    "  h = []\n",
    "  for i in range(len(r)):\n",
    "    if r[i]>sum(r)/3:\n",
    "      h.append(a[i])\n",
    "  return h \n",
    "supernodes(v)"
   ]
  },
  {
   "cell_type": "code",
   "execution_count": null,
   "metadata": {
    "id": "6Ee4SVses7ni"
   },
   "outputs": [],
   "source": [
    "###### Compensation Degree\n",
    "def compdegree(l1,l2):\n",
    "  a = len(l1)-1\n",
    "  s = 0\n",
    "  for i in range(a-1):\n",
    "    f = abs((l1[i+1]-l1[i]) + (l2[i+1] - l2[i]))\n",
    "    g = max(l1[i],l2[i+1]) + max(l2[i+1],l2[i])\n",
    "    s += (f/g)\n",
    "  return s/a"
   ]
  },
  {
   "cell_type": "code",
   "execution_count": null,
   "metadata": {
    "id": "disJPWNfvXlv"
   },
   "outputs": [],
   "source": [
    "def sizediff(m1,m2):\n",
    "  a = len(m1)\n",
    "  s = 0\n",
    "  for i in range(a):\n",
    "    s+= (abs(m1[i]-m2[i]))/(max(m1[i],m2[i]))\n",
    "  return s/a"
   ]
  },
  {
   "cell_type": "code",
   "execution_count": null,
   "metadata": {
    "id": "MzedTe10w5sa"
   },
   "outputs": [],
   "source": [
    "def costfunc(x,y):\n",
    "  return 0.5*(compdegree(x,y)+sizediff(x,y))"
   ]
  },
  {
   "cell_type": "code",
   "execution_count": null,
   "metadata": {
    "colab": {
     "base_uri": "https://localhost:8080/"
    },
    "id": "PRwROZAtBWwJ",
    "outputId": "d02027d1-4e91-4e09-908b-04ed358e300f"
   },
   "outputs": [
    {
     "data": {
      "text/plain": [
       "188"
      ]
     },
     "execution_count": 22,
     "metadata": {},
     "output_type": "execute_result"
    }
   ],
   "source": [
    "len(v)"
   ]
  },
  {
   "cell_type": "code",
   "execution_count": null,
   "metadata": {
    "id": "K2kAjZxE64XE"
   },
   "outputs": [],
   "source": [
    "def costmatrix(v):\n",
    "  mydict = {}\n",
    "  lo = []\n",
    "  for i in range(len(v)):\n",
    "    for j in range(i+1,len(v)):\n",
    "      mydict[(a[i],a[j])] = costfunc(v[i],v[j])\n",
    "      lo.append(costfunc(v[i],v[j]))\n",
    "  return mydict"
   ]
  },
  {
   "cell_type": "code",
   "execution_count": null,
   "metadata": {
    "id": "M5aJwzuL7ArW"
   },
   "outputs": [],
   "source": [
    "def flatandsort(mydict):\n",
    "  p = min(list(mydict.values()))\n",
    "  k = []\n",
    "  for i in range(len(mydict)):\n",
    "    if mydict[list(mydict.keys())[i]] ==p:\n",
    "      k.append(list(mydict.keys())[i])\n",
    "  return k"
   ]
  },
  {
   "cell_type": "code",
   "execution_count": null,
   "metadata": {
    "colab": {
     "base_uri": "https://localhost:8080/"
    },
    "id": "VnvumDB97Ajg",
    "outputId": "a9672747-2ba8-471d-e3df-66e07f7c644b"
   },
   "outputs": [
    {
     "name": "stderr",
     "output_type": "stream",
     "text": [
      "<ipython-input-19-c7a9434e9187>:8: RuntimeWarning: invalid value encountered in double_scalars\n",
      "  s += (f/g)\n",
      "<ipython-input-19-c7a9434e9187>:8: RuntimeWarning: divide by zero encountered in double_scalars\n",
      "  s += (f/g)\n",
      "<ipython-input-20-041359b5d303>:5: RuntimeWarning: invalid value encountered in double_scalars\n",
      "  s+= (abs(m1[i]-m2[i]))/(max(m1[i],m2[i]))\n"
     ]
    }
   ],
   "source": [
    "while(len(v)>1):\n",
    "  x = costmatrix(v)\n",
    "  y = flatandsort(x)\n",
    "  u = np.add(v[a.index(y[0][0])],v[a.index(y[0][1])])\n",
    "  v = [v[i] for i in range(len(v)) if i!=a.index(y[0][0]) and i!=a.index(y[0][1])]\n",
    "  v.append(np.array(u))\n",
    "  c = [i for i in a if i!=y[0][0] and i!=y[0][1]]\n",
    "  c.append((y[0][0],y[0][1]))\n",
    "  a = c                       "
   ]
  },
  {
   "cell_type": "code",
   "execution_count": null,
   "metadata": {
    "colab": {
     "base_uri": "https://localhost:8080/"
    },
    "id": "7nckF_cB7AQO",
    "outputId": "a715a67d-11a0-4814-da78-3ec62926b09c"
   },
   "outputs": [
    {
     "data": {
      "text/plain": [
       "[(('Malta', ('Estonia', 'Grenada')),\n",
       "  (((('Suriname', ('Oman', ('Ireland', 'UnitedArabEmirates'))),\n",
       "     ('Poland', ('Albania', ('Maldives', 'CaboVerde')))),\n",
       "    ('Belarus', ('Lithuania', 'BahamasThe'))),\n",
       "   ((('Rwanda',\n",
       "      ('Cambodia',\n",
       "       ('IranIslamicRep',\n",
       "        (('Tajikistan', 'SaudiArabia'),\n",
       "         ('Kazakhstan',\n",
       "          ('Azerbaijan', (('Armenia', 'Libya'), ('Moldova', 'Lebanon')))))))),\n",
       "     ('SouthAfrica',\n",
       "      ('Turkey',\n",
       "       (('TimorLeste', ('Romania', 'ElSalvador')),\n",
       "        ('DominicanRepublic',\n",
       "         (('Mongolia', 'Bhutan'),\n",
       "          (((('SaoTomeandPrincipe', ('Sweden', 'Switzerland')),\n",
       "             ('TrinidadandTobago',\n",
       "              (('Bahrain', 'Qatar'), ('Tonga', 'Kuwait')))),\n",
       "            ('Netherlands',\n",
       "             ('PuertoRico',\n",
       "              ('Denmark',\n",
       "               ('MacedoniaFYR', ('Cyprus', 'StVincentandtheGrenadines')))))),\n",
       "           (('Hungary',\n",
       "             ('Mauritius', ('Croatia', ('BruneiDarussalam', 'Finland')))),\n",
       "            (('Singapore', ('Norway', 'Belize')),\n",
       "             ('CzechRepublic', ('Austria', ('Barbados', 'StLucia')))))))))))),\n",
       "    (((('CongoDemRep', (('CotedIvoire', 'Niger'), ('Cameroon', 'Chad'))),\n",
       "       (('MiddleEast&NorthAfrica', ('Malawi', 'Mali')),\n",
       "        (('Somalia', 'SouthSudan'),\n",
       "         ('SierraLeone',\n",
       "          ('Zambia',\n",
       "           ('Togo',\n",
       "            ('Argentina',\n",
       "             ('Nicaragua',\n",
       "              ('Jordan', ('Germany', ('Italy', 'CostaRica'))))))))))),\n",
       "      (('Bangladesh',\n",
       "        (('Myanmar', 'Europe&CentralAsia'),\n",
       "         ('Nepal', ('Mexico', ('LaoPDR', 'Peru'))))),\n",
       "       (('China', 'Afghanistan'),\n",
       "        ('Kenya',\n",
       "         (('Senegal',\n",
       "           (('UnitedStates', 'GambiaThe'), ('VenezuelaRB', 'NorthAmerica'))),\n",
       "          ('Zimbabwe',\n",
       "           (('KoreaDemPeople’sRep',\n",
       "             ('Gabon',\n",
       "              ('UnitedKingdom',\n",
       "               ('Guyana', ('Australia', ('Belgium', 'Israel')))))),\n",
       "            (('Thailand',\n",
       "              ('Botswana',\n",
       "               (('SolomonIslands',\n",
       "                 (('Fiji', 'Vanuatu'),\n",
       "                  (('Kiribati', 'MicronesiaFedSts'),\n",
       "                   ('Samoa', 'SlovakRepublic')))),\n",
       "                (('Portugal', 'Uruguay'),\n",
       "                 ('Bulgaria', ('BosniaandHerzegovina', 'Latvia')))))),\n",
       "             ('Uzbekistan',\n",
       "              ('KyrgyzRepublic',\n",
       "               ('Panama',\n",
       "                ('Canada',\n",
       "                 ('Serbia',\n",
       "                  ('NewZealand',\n",
       "                   ('Greece',\n",
       "                    ('Slovenia', ('Luxembourg', 'Montenegro'))))))))))))))))),\n",
       "     (('Sub-SaharanAfrica',\n",
       "       ('India',\n",
       "        (('Ethiopia', ('Indonesia', 'LatinAmerica&Caribbean')),\n",
       "         (('Tanzania', ('Sudan', ('BurkinaFaso', 'Ghana'))),\n",
       "          (((('Haiti', ('PapuaNewGuinea', 'Guatemala')),\n",
       "             ('Morocco',\n",
       "              ('RussianFederation',\n",
       "               ('SyrianArabRepublic', ('SriLanka', ('KoreaRep', 'Chile')))))),\n",
       "            (('EgyptArabRep', 'Eritrea'),\n",
       "             ('Vietnam',\n",
       "              (('Malaysia', ('EquatorialGuinea', ('Turkmenistan', 'Cuba'))),\n",
       "               ('Ecuador', ('Ukraine', 'Tunisia')))))),\n",
       "           (('Philippines', ('Liberia', ('Bolivia', 'Colombia'))),\n",
       "            ('Brazil',\n",
       "             ('Algeria',\n",
       "              ('Iraq',\n",
       "               ('Honduras',\n",
       "                (('France', 'WestBankandGaza'),\n",
       "                 ('Japan', 'Djibouti')))))))))))),\n",
       "      ('SouthAsia',\n",
       "       ('Nigeria',\n",
       "        ((('Angola', 'Mozambique'), ('Uganda', ('Guinea', 'Madagascar'))),\n",
       "         ('Pakistan',\n",
       "          (('YemenRep', 'Burundi'),\n",
       "           (('Benin',\n",
       "             ('Mauritania', ('GuineaBissau', ('Paraguay', 'Namibia')))),\n",
       "            ('CentralAfricanRepublic',\n",
       "             ('CongoRep',\n",
       "              ('Lesotho',\n",
       "               ('Swaziland',\n",
       "                ('Comoros', ('Jamaica', ('Georgia', 'Spain'))))))))))))))))))]"
      ]
     },
     "execution_count": 26,
     "metadata": {},
     "output_type": "execute_result"
    }
   ],
   "source": [
    "a"
   ]
  },
  {
   "cell_type": "code",
   "execution_count": null,
   "metadata": {
    "id": "k4Luwn-fCUqV"
   },
   "outputs": [],
   "source": []
  },
  {
   "cell_type": "code",
   "execution_count": null,
   "metadata": {
    "id": "SJ4dXJEoCUnB"
   },
   "outputs": [],
   "source": []
  },
  {
   "cell_type": "code",
   "execution_count": null,
   "metadata": {
    "id": "X5kUFrsCCUjj"
   },
   "outputs": [],
   "source": []
  },
  {
   "cell_type": "code",
   "execution_count": null,
   "metadata": {
    "id": "yGevkqjOCUYc"
   },
   "outputs": [],
   "source": []
  },
  {
   "cell_type": "code",
   "execution_count": null,
   "metadata": {
    "id": "Dh0F3zji58GL"
   },
   "outputs": [],
   "source": []
  },
  {
   "cell_type": "code",
   "execution_count": null,
   "metadata": {
    "id": "mH78ocKT578W"
   },
   "outputs": [],
   "source": []
  }
 ],
 "metadata": {
  "colab": {
   "provenance": []
  },
  "kernelspec": {
   "display_name": "Python 3 (ipykernel)",
   "language": "python",
   "name": "python3"
  },
  "language_info": {
   "codemirror_mode": {
    "name": "ipython",
    "version": 3
   },
   "file_extension": ".py",
   "mimetype": "text/x-python",
   "name": "python",
   "nbconvert_exporter": "python",
   "pygments_lexer": "ipython3",
   "version": "3.9.7"
  }
 },
 "nbformat": 4,
 "nbformat_minor": 1
}
